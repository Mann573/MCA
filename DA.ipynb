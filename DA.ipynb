{
 "cells": [
  {
   "cell_type": "code",
   "execution_count": 2,
   "id": "fcadd6ce",
   "metadata": {},
   "outputs": [],
   "source": [
    "import pandas as pd"
   ]
  },
  {
   "cell_type": "code",
   "execution_count": 6,
   "id": "feb6c9d2",
   "metadata": {},
   "outputs": [],
   "source": [
    "import matplotlib.pyplot as mtl"
   ]
  },
  {
   "cell_type": "code",
   "execution_count": 12,
   "id": "f892a71e",
   "metadata": {},
   "outputs": [],
   "source": [
    "import numpy as np"
   ]
  },
  {
   "cell_type": "markdown",
   "id": "040c7188",
   "metadata": {},
   "source": [
    "INTER QUARTILE RANGE"
   ]
  },
  {
   "cell_type": "code",
   "execution_count": 11,
   "id": "10b4d638",
   "metadata": {},
   "outputs": [
    {
     "name": "stdout",
     "output_type": "stream",
     "text": [
      "23.25\n",
      "34.875\n",
      "8.625 101.625\n"
     ]
    }
   ],
   "source": [
    "Q1=43.5\n",
    "Q3=66.75\n",
    "\n",
    "x=Q3-Q1\n",
    "\n",
    "print(x)\n",
    "\n",
    "y=(Q3-Q1)*1.5\n",
    "print(y)\n",
    "\n",
    "\n",
    "Q3=Q3+y\n",
    "\n",
    "Q1=Q1-y\n",
    "print(Q1,Q3)"
   ]
  },
  {
   "cell_type": "code",
   "execution_count": 21,
   "id": "7b195dad",
   "metadata": {},
   "outputs": [
    {
     "name": "stdout",
     "output_type": "stream",
     "text": [
      "[5, 6, 7, 13, 43, 45, 46, 55, 56, 60, 61, 62, 65, 66, 66, 67, 90, 100, 104, 132]\n",
      "IQR without whiskers 44.5 66.25\n",
      "IQR with whiskers 11.875 98.875\n"
     ]
    }
   ],
   "source": [
    "a=[5,6,7,13,43,45,46,55,56,60,61,62,65,66,66,67,90,100,104,132]\n",
    "\n",
    "a.sort()\n",
    "print(a)\n",
    "\n",
    "Q1=np.percentile(a,25)\n",
    "Q3=np.percentile(a,75)\n",
    "\n",
    "\n",
    "print(\"IQR without whiskers\",Q1,Q3)\n",
    "\n",
    "x=(Q3-Q1)*1.5\n",
    "\n",
    "lb=Q1-x\n",
    "ub=Q3+x\n",
    "\n",
    "print(\"IQR with whiskers\",lb,ub)\n"
   ]
  },
  {
   "cell_type": "code",
   "execution_count": 23,
   "id": "2031b23c",
   "metadata": {},
   "outputs": [
    {
     "name": "stdout",
     "output_type": "stream",
     "text": [
      "0       5\n",
      "1       6\n",
      "2       7\n",
      "3      13\n",
      "4      43\n",
      "5      45\n",
      "6      46\n",
      "7      55\n",
      "8      56\n",
      "9      60\n",
      "10     61\n",
      "11     62\n",
      "12     65\n",
      "13     66\n",
      "14     66\n",
      "15     67\n",
      "16     90\n",
      "17    100\n",
      "18    104\n",
      "19    132\n",
      "dtype: int64\n"
     ]
    }
   ],
   "source": [
    "p=pd.Series(a)\n",
    "print(p)"
   ]
  },
  {
   "cell_type": "code",
   "execution_count": 28,
   "id": "bd1fa17b",
   "metadata": {},
   "outputs": [],
   "source": [
    "q1=p.quantile(0.25)\n",
    "q3=p.quantile(0.75)"
   ]
  },
  {
   "cell_type": "code",
   "execution_count": 29,
   "id": "6e9d5274",
   "metadata": {},
   "outputs": [],
   "source": [
    "v=(q3-q1)*1.5\n",
    "lb=q1-v\n",
    "up=q3+v"
   ]
  },
  {
   "cell_type": "code",
   "execution_count": 31,
   "id": "b0124ae7",
   "metadata": {},
   "outputs": [
    {
     "data": {
      "image/png": "[encoded data removed]",
      "text/plain": [
       "<Figure size 640x480 with 1 Axes>"
      ]
     },
     "metadata": {},
     "output_type": "display_data"
    }
   ],
   "source": [
    "mtl.boxplot(p,vert=False)\n",
    "mtl.show()"
   ]
  },
  {
   "cell_type": "markdown",
   "id": "9002ea9b",
   "metadata": {},
   "source": [
    "# "
   ]
  },
  {
   "cell_type": "markdown",
   "id": "0ab8e3ff",
   "metadata": {},
   "source": [
    "## Z-SCORE"
   ]
  },
  {
   "cell_type": "code",
   "execution_count": 32,
   "id": "4d2c6e18",
   "metadata": {},
   "outputs": [],
   "source": [
    "import statistics"
   ]
  },
  {
   "cell_type": "code",
   "execution_count": 37,
   "id": "baf546cb",
   "metadata": {},
   "outputs": [],
   "source": [
    "Data=pd.Series([1,2,2,2,3,1,1,15,2,2,23,1,1,2])\n",
    "m=statistics.mean(Data)\n",
    "sd=statistics.stdev(Data)"
   ]
  },
  {
   "cell_type": "code",
   "execution_count": 38,
   "id": "6745c4bd",
   "metadata": {},
   "outputs": [
    {
     "name": "stdout",
     "output_type": "stream",
     "text": [
      "4.142857142857143\n"
     ]
    }
   ],
   "source": [
    "print(m)"
   ]
  },
  {
   "cell_type": "code",
   "execution_count": 39,
   "id": "cf6db728",
   "metadata": {},
   "outputs": [
    {
     "name": "stdout",
     "output_type": "stream",
     "text": [
      "6.514565253304355\n"
     ]
    }
   ],
   "source": [
    "print(sd)"
   ]
  },
  {
   "cell_type": "code",
   "execution_count": 41,
   "id": "99d3557c",
   "metadata": {},
   "outputs": [
    {
     "name": "stdout",
     "output_type": "stream",
     "text": [
      "[-0.48243543823020346, -0.3289332533387751, -0.3289332533387751, -0.3289332533387751, -0.17543106844734677, -0.48243543823020346, -0.48243543823020346, 1.6665951502497938, -0.3289332533387751, -0.3289332533387751, 2.8946126293812204, -0.48243543823020346, -0.48243543823020346, -0.3289332533387751]\n"
     ]
    }
   ],
   "source": [
    "Z=[]\n",
    "for i in Data:\n",
    "    a=(i-m)/sd\n",
    "    Z.append(a)\n"
   ]
  },
  {
   "cell_type": "code",
   "execution_count": 42,
   "id": "7f6602ec",
   "metadata": {},
   "outputs": [
    {
     "name": "stdout",
     "output_type": "stream",
     "text": [
      "-0.48243543823020346\n",
      "-0.3289332533387751\n",
      "-0.3289332533387751\n",
      "-0.3289332533387751\n",
      "-0.17543106844734677\n",
      "-0.48243543823020346\n",
      "-0.48243543823020346\n",
      "1.6665951502497938\n",
      "-0.3289332533387751\n",
      "-0.3289332533387751\n",
      "2.8946126293812204\n",
      "-0.48243543823020346\n",
      "-0.48243543823020346\n",
      "-0.3289332533387751\n"
     ]
    }
   ],
   "source": [
    "for i in Z:\n",
    "    print(i)"
   ]
  },
  {
   "cell_type": "code",
   "execution_count": null,
   "id": "e96c36b4",
   "metadata": {},
   "outputs": [],
   "source": [
    "    "
   ]
  },
  {
   "cell_type": "code",
   "execution_count": null,
   "id": "325d713c",
   "metadata": {},
   "outputs": [],
   "source": []
  }
 ],
 "metadata": {
  "kernelspec": {
   "display_name": "Python 3 (ipykernel)",
   "language": "python",
   "name": "python3"
  },
  "language_info": {
   "codemirror_mode": {
    "name": "ipython",
    "version": 3
   },
   "file_extension": ".py",
   "mimetype": "text/x-python",
   "name": "python",
   "nbconvert_exporter": "python",
   "pygments_lexer": "ipython3",
   "version": "3.11.5"
  }
 },
 "nbformat": 4,
 "nbformat_minor": 5
}
