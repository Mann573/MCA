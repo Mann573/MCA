{
 "cells": [
  {
   "cell_type": "code",
   "execution_count": 3,
   "id": "4fb5cf6e",
   "metadata": {},
   "outputs": [
    {
     "name": "stdout",
     "output_type": "stream",
     "text": [
      "C is Greatest\n"
     ]
    }
   ],
   "source": [
    "def check(a,b,c):\n",
    "    if a>b:\n",
    "        if a>c:\n",
    "            print (\"A is Greatest\")\n",
    "        else:\n",
    "            print (\"C is Greatest\")\n",
    "    else:\n",
    "        if b>c:\n",
    "            print (\"B is Gratest\")\n",
    "        else:\n",
    "            print (\"c is Gratest\")\n",
    "            \n",
    "check(20,10,30)"
   ]
  },
  {
   "cell_type": "code",
   "execution_count": 12,
   "id": "ad5c8ffc",
   "metadata": {},
   "outputs": [
    {
     "name": "stdout",
     "output_type": "stream",
     "text": [
      "Enter a number: 5\n",
      "120\n"
     ]
    }
   ],
   "source": [
    "def fact(a):\n",
    "    if a == 0:\n",
    "        return 1\n",
    "    else:\n",
    "        return a * fact(a-1)\n",
    "a=int(input(\"Enter a number: \"))\n",
    "result=0\n",
    "if a < 0:\n",
    "    print (\"A must be a non-negative integer\")\n",
    "else:\n",
    "    result = fact(a)\n",
    "print(result)"
   ]
  },
  {
   "cell_type": "code",
   "execution_count": 18,
   "id": "133149a3",
   "metadata": {},
   "outputs": [
    {
     "name": "stdout",
     "output_type": "stream",
     "text": [
      "Enter a number: 30\n",
      "30 is between 1 and 30\n"
     ]
    }
   ],
   "source": [
    "num=int(input(\"Enter a number: \"))\n",
    "if num in range(1,31):\n",
    "    print(num ,\"is between 1 and 30\")\n",
    "else:\n",
    "    print(num,\"is not between 1 and 30\")"
   ]
  },
  {
   "cell_type": "code",
   "execution_count": 22,
   "id": "c62d8f87",
   "metadata": {},
   "outputs": [
    {
     "name": "stdout",
     "output_type": "stream",
     "text": [
      "Enter any string: The quick Brown Fox\n",
      "The quick Brown Fox\n",
      "3 13\n"
     ]
    }
   ],
   "source": [
    "inp=input(\"Enter any string: \")\n",
    "print(inp)\n",
    "nul=0\n",
    "nll=0\n",
    "for i in inp:\n",
    "    if i.isupper():\n",
    "        nul+=1\n",
    "    elif i.islower():\n",
    "        nll+=1\n",
    "print(nul,nll)"
   ]
  },
  {
   "cell_type": "code",
   "execution_count": 11,
   "id": "df7e545a",
   "metadata": {},
   "outputs": [
    {
     "name": "stdout",
     "output_type": "stream",
     "text": [
      "11 is a prime number\n"
     ]
    }
   ],
   "source": [
    "num = 11\n",
    "if num > 1:\n",
    "    for i in range(2, int(num/2)+1):\n",
    "        if (num % i) == 0:\n",
    "            print(num, \"is not a prime number\")\n",
    "            break\n",
    "    else:\n",
    "        print(num, \"is a prime number\")\n",
    "else:\n",
    "    print(num, \"is not a prime number\")\n"
   ]
  },
  {
   "cell_type": "code",
   "execution_count": 33,
   "id": "c4919acb",
   "metadata": {},
   "outputs": [
    {
     "name": "stdout",
     "output_type": "stream",
     "text": [
      "Enter any string: 211\n",
      "211 is not palindrome\n"
     ]
    }
   ],
   "source": [
    "inp=input(\"Enter any string: \")\n",
    "if inp == inp[::-1]:\n",
    "    print(f\"{inp} is palindrome\")\n",
    "else:\n",
    "    print(f\"{inp} is not palindrome\")"
   ]
  },
  {
   "cell_type": "code",
   "execution_count": 10,
   "id": "ccc2e23d",
   "metadata": {},
   "outputs": [
    {
     "name": "stdout",
     "output_type": "stream",
     "text": [
      "3\n"
     ]
    }
   ],
   "source": [
    "def fun():\n",
    "    a=10\n",
    "    s=\"Hello World\"\n",
    "    f=1.01\n",
    "    \n",
    "print(fun.__code__.co_nlocals)"
   ]
  },
  {
   "cell_type": "code",
   "execution_count": null,
   "id": "0e9ee9b9",
   "metadata": {},
   "outputs": [],
   "source": []
  }
 ],
 "metadata": {
  "kernelspec": {
   "display_name": "Python 3",
   "language": "python",
   "name": "python3"
  },
  "language_info": {
   "codemirror_mode": {
    "name": "ipython",
    "version": 3
   },
   "file_extension": ".py",
   "mimetype": "text/x-python",
   "name": "python",
   "nbconvert_exporter": "python",
   "pygments_lexer": "ipython3",
   "version": "3.8.8"
  }
 },
 "nbformat": 4,
 "nbformat_minor": 5
}
