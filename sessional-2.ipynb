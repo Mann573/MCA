{
 "cells": [
  {
   "cell_type": "code",
   "execution_count": 17,
   "id": "5716510b",
   "metadata": {},
   "outputs": [
    {
     "name": "stdout",
     "output_type": "stream",
     "text": [
      "1 2 3 "
     ]
    }
   ],
   "source": [
    "import array as arr\n",
    "a=arr.array('i',[1,2,3])\n",
    "for i in range (0,len(a)):\n",
    "    print (a[i],end=\" \")"
   ]
  },
  {
   "cell_type": "code",
   "execution_count": 16,
   "id": "42e98ff0",
   "metadata": {},
   "outputs": [
    {
     "name": "stdout",
     "output_type": "stream",
     "text": [
      "The array is: 1 3 5 3 7 9 3 \n",
      "Number of occurrences of the number 3 in the said array:  3\n"
     ]
    }
   ],
   "source": [
    "#1.\n",
    "\n",
    "import array as arr\n",
    "\n",
    "a=arr.array('i', [1, 3, 5, 3, 7, 9, 3])\n",
    "print(\"The array is:\",end=\" \")\n",
    "for i in range (0,len(a)):\n",
    "    print (a[i],end=\" \")\n",
    "count=a.count(3);\n",
    "print(\"\\nNumber of occurrences of the number 3 in the said array: \",count)\n"
   ]
  },
  {
   "cell_type": "code",
   "execution_count": 20,
   "id": "3361d316",
   "metadata": {},
   "outputs": [
    {
     "name": "stdout",
     "output_type": "stream",
     "text": [
      "The Original array is: 1 3 5 7 9 \n",
      "The Extended array is: 1 3 5 7 9 1 3 5 7 9 "
     ]
    }
   ],
   "source": [
    "#2.\n",
    "import array as arr\n",
    "a=arr.array('i',[1,3,5,7,9])\n",
    "print(\"The Original array is:\",end=\" \")\n",
    "for i in range (0,len(a)):\n",
    "    print (a[i],end=\" \")\n",
    "    a.append(a[i])\n",
    "\n",
    "print(\"\\nThe Extended array is:\",end=\" \")\n",
    "for i in range (0,len(a)):\n",
    "    print (a[i],end=\" \")"
   ]
  },
  {
   "cell_type": "code",
   "execution_count": 32,
   "id": "a0ea01bb",
   "metadata": {},
   "outputs": [
    {
     "name": "stdout",
     "output_type": "stream",
     "text": [
      "[ 12.23  13.32 100.    36.32]\n"
     ]
    }
   ],
   "source": [
    "#3.\n",
    "import numpy as np\n",
    "l=[12.23,13.32,100.00,36.32]\n",
    "arr=np.array((l))\n",
    "print(arr)\n",
    "\n"
   ]
  },
  {
   "cell_type": "code",
   "execution_count": 33,
   "id": "5ab53917",
   "metadata": {},
   "outputs": [
    {
     "name": "stdout",
     "output_type": "stream",
     "text": [
      "Size of the array: 5\n",
      "Length of one array element in bytes: 8\n",
      "Total bytes consumed by the elements of the array: 40\n"
     ]
    }
   ],
   "source": [
    "#4.\n",
    "import numpy as np\n",
    "arr=np.array([1,2,3,4,5],dtype=np.float64)\n",
    "print(\"Size of the array:\",arr.size)\n",
    "\n",
    "print(\"Length of one array element in bytes:\",arr.itemsize)\n",
    "print(\"Total bytes consumed by the elements of the array:\", arr.nbytes)"
   ]
  },
  {
   "cell_type": "code",
   "execution_count": 34,
   "id": "9fdaa4da",
   "metadata": {},
   "outputs": [
    {
     "name": "stdout",
     "output_type": "stream",
     "text": [
      "[[15 35]\n",
      " [10 20]]\n"
     ]
    }
   ],
   "source": [
    "#5.\n",
    "import numpy as np\n",
    "a=np.array(([[3,7],[2,4]]))\n",
    "a=a*5\n",
    "print(a)"
   ]
  },
  {
   "cell_type": "code",
   "execution_count": 36,
   "id": "9018d3c4",
   "metadata": {},
   "outputs": [
    {
     "name": "stdout",
     "output_type": "stream",
     "text": [
      "13\n"
     ]
    }
   ],
   "source": [
    "#6.\n",
    "import numpy as np\n",
    "u = np.array(([3, -2]))\n",
    "v = np.array(([5, 1]))\n",
    "print(np.dot(u,v))\n"
   ]
  },
  {
   "cell_type": "code",
   "execution_count": 46,
   "id": "21839a1b",
   "metadata": {},
   "outputs": [
    {
     "name": "stdout",
     "output_type": "stream",
     "text": [
      "Result of matrix multiplication A×B:\n",
      "[[-10  20 -10]\n",
      " [-10  20 -10]\n",
      " [-10  20 -10]]\n"
     ]
    }
   ],
   "source": [
    "#7.\n",
    "import numpy as np\n",
    "\n",
    "A = np.array([[1, 2, 3],\n",
    "              [4, 5, 6],\n",
    "              [7, 8, 9]])\n",
    "\n",
    "B = np.array([[9, 8, 7],\n",
    "              [6, 5, 4],\n",
    "              [3, 2, 1]])\n",
    "\n",
    "result = np.cross(A, B)\n",
    "\n",
    "print(\"Result of matrix multiplication A×B:\")\n",
    "print(result)\n"
   ]
  },
  {
   "cell_type": "code",
   "execution_count": 49,
   "id": "eafda96d",
   "metadata": {},
   "outputs": [
    {
     "name": "stdout",
     "output_type": "stream",
     "text": [
      "Result of the matrix-vector product Mx:\n",
      "[ 9 -1 18]\n"
     ]
    }
   ],
   "source": [
    "#8.\n",
    "import numpy as np\n",
    "\n",
    "M = np.array([[4, 2, 1],\n",
    "              [1, 3, 0],\n",
    "              [2, 1, 5]])\n",
    "\n",
    "x = np.array([2, -1, 3])\n",
    "\n",
    "result = np.dot(M, x)\n",
    "\n",
    "print(\"Result of the matrix-vector product Mx:\")\n",
    "print(result)\n"
   ]
  },
  {
   "cell_type": "code",
   "execution_count": 50,
   "id": "668e7c72",
   "metadata": {},
   "outputs": [
    {
     "name": "stdout",
     "output_type": "stream",
     "text": [
      "Result of matrix multiplication A×B:\n",
      "[[ 30  24  18]\n",
      " [ 84  69  54]\n",
      " [138 114  90]]\n"
     ]
    }
   ],
   "source": [
    "#9.\n",
    "import numpy as np\n",
    "\n",
    "A = np.array([[1, 2, 3],\n",
    "              [4, 5, 6],\n",
    "              [7, 8, 9]])\n",
    "\n",
    "B = np.array([[9, 8, 7],\n",
    "              [6, 5, 4],\n",
    "              [3, 2, 1]])\n",
    "\n",
    "result = np.dot(A, B)\n",
    "\n",
    "print(\"Result of matrix multiplication A×B:\")\n",
    "print(result)\n"
   ]
  },
  {
   "cell_type": "code",
   "execution_count": 51,
   "id": "0367bd28",
   "metadata": {},
   "outputs": [
    {
     "name": "stdout",
     "output_type": "stream",
     "text": [
      "Result of the matrix-vector product Mx:\n",
      "[[ 9 -1 18]\n",
      " [ 5  6  3]]\n"
     ]
    }
   ],
   "source": [
    "# 10.\n",
    "import numpy as np\n",
    "\n",
    "M = np.array([[[4, 2, 1],\n",
    "               [1, 3, 0],\n",
    "               [2, 1, 5]],\n",
    "              \n",
    "              [[-1, 2, 3],\n",
    "               [0, -3, 1],\n",
    "               [2, 1, 0]]])\n",
    "\n",
    "x = np.array([2, -1, 3])\n",
    "\n",
    "result = np.matmul(M, x)\n",
    "\n",
    "# Alternatively, you can use the @ operator\n",
    "# result = M @ x\n",
    "\n",
    "print(\"Result of the matrix-vector product Mx:\")\n",
    "print(result)\n"
   ]
  },
  {
   "cell_type": "code",
   "execution_count": 52,
   "id": "0c52af10",
   "metadata": {},
   "outputs": [
    {
     "name": "stdout",
     "output_type": "stream",
     "text": [
      "First 20 prime numbers:\n",
      "[ 2  3  5  7 11 13 17 19 23 29 31 37 41 43 47 53 59 61 67 71]\n",
      "\n",
      "Sum of the elements: 639\n"
     ]
    }
   ],
   "source": [
    "#11.\n",
    "import numpy as np\n",
    "\n",
    "def is_prime(num):\n",
    "    \"\"\"Check if a number is prime.\"\"\"\n",
    "    if num < 2:\n",
    "        return False\n",
    "    for i in range(2, int(num**0.5) + 1):\n",
    "        if num % i == 0:\n",
    "            return False\n",
    "    return True\n",
    "\n",
    "# Find the first 20 prime numbers\n",
    "primes = [i for i in range(2, 100) if is_prime(i)][:20]\n",
    "\n",
    "# Create a NumPy array\n",
    "prime_array = np.array(primes)\n",
    "\n",
    "# Find the sum of the elements in the array\n",
    "sum_of_primes = np.sum(prime_array)\n",
    "\n",
    "print(\"First 20 prime numbers:\")\n",
    "print(prime_array)\n",
    "print(\"\\nSum of the elements:\", sum_of_primes)\n"
   ]
  },
  {
   "cell_type": "code",
   "execution_count": 53,
   "id": "ac8a187d",
   "metadata": {},
   "outputs": [
    {
     "name": "stdout",
     "output_type": "stream",
     "text": [
      "Mean Temperature: 25.88571428571429\n",
      "Indices where temperature is above the mean: (array([1, 4, 5, 6], dtype=int64),)\n"
     ]
    }
   ],
   "source": [
    "#12.\n",
    "import numpy as np\n",
    "\n",
    "temperatures = np.array([25.5, 26.2, 24.8, 23.5, 27.0, 25.9, 28.3])\n",
    "\n",
    "# Calculate the mean temperature\n",
    "mean_temperature = np.mean(temperatures)\n",
    "\n",
    "# Identify indices where the temperature is above the mean\n",
    "above_mean_indices = np.where(temperatures > mean_temperature)\n",
    "\n",
    "print(\"Mean Temperature:\", mean_temperature)\n",
    "print(\"Indices where temperature is above the mean:\", above_mean_indices)\n"
   ]
  },
  {
   "cell_type": "code",
   "execution_count": 54,
   "id": "0f168c83",
   "metadata": {},
   "outputs": [
    {
     "name": "stdout",
     "output_type": "stream",
     "text": [
      "Original Array:\n",
      "[10 11 12 13 14 15 16 17 18 19 20 21 22 23 24 25 26 27 28 29 30 31 32 33\n",
      " 34 35 36 37 38 39 40 41 42 43 44 45 46 47 48 49 50]\n",
      "\n",
      "Subset Array (elements from index 5 to index 15):\n",
      "[15 16 17 18 19 20 21 22 23 24 25]\n"
     ]
    }
   ],
   "source": [
    "#13.\n",
    "import numpy as np\n",
    "\n",
    "# Create a NumPy array with elements ranging from 10 to 50\n",
    "my_array = np.arange(10, 51)\n",
    "\n",
    "# Extract elements from index 5 to index 15 (inclusive)\n",
    "subset_array = my_array[5:16]\n",
    "\n",
    "print(\"Original Array:\")\n",
    "print(my_array)\n",
    "\n",
    "print(\"\\nSubset Array (elements from index 5 to index 15):\")\n",
    "print(subset_array)\n",
    "\n"
   ]
  },
  {
   "cell_type": "code",
   "execution_count": 56,
   "id": "bb0afecb",
   "metadata": {},
   "outputs": [
    {
     "name": "stdout",
     "output_type": "stream",
     "text": [
      "Original Matrix:\n",
      "[[ 1  2  3  4]\n",
      " [ 5  6  7  8]\n",
      " [ 9 10 11 12]\n",
      " [13 14 15 16]]\n",
      "\n",
      "Central 2x2 Submatrix:\n",
      "[[ 6  7]\n",
      " [10 11]]\n",
      "2\n"
     ]
    }
   ],
   "source": [
    "# 14.\n",
    "import numpy as np\n",
    "\n",
    "matrix = np.array([[1, 2, 3, 4],\n",
    "                   [5, 6, 7, 8],\n",
    "                   [9, 10, 11, 12],\n",
    "                   [13, 14, 15, 16]])\n",
    "\n",
    "# Extract the central 2x2 submatrix\n",
    "submatrix = matrix[1:3, 1:3]\n",
    "\n",
    "print(\"Original Matrix:\")\n",
    "print(matrix)\n",
    "\n",
    "print(\"\\nCentral 2x2 Submatrix:\")\n",
    "print(submatrix)\n"
   ]
  },
  {
   "cell_type": "code",
   "execution_count": 57,
   "id": "4ef7c636",
   "metadata": {},
   "outputs": [
    {
     "name": "stdout",
     "output_type": "stream",
     "text": [
      "Random 5x5 Array:\n",
      "[[0.58973354 0.63061029 0.1475171  0.72601094 0.23869556]\n",
      " [0.18853783 0.83135045 0.7251685  0.16717209 0.75310147]\n",
      " [0.21593756 0.79402283 0.52945232 0.66554246 0.86835797]\n",
      " [0.14296902 0.42750849 0.64786876 0.88415752 0.70692476]\n",
      " [0.0112689  0.04698156 0.3819446  0.45015892 0.70847493]]\n",
      "\n",
      "Diagonal Elements (as a 1D array):\n",
      "[0.58973354 0.83135045 0.52945232 0.88415752 0.70847493]\n"
     ]
    }
   ],
   "source": [
    "#15.\n",
    "import numpy as np\n",
    "\n",
    "# Create a random 5x5 NumPy array with values between 0 and 1\n",
    "random_array = np.random.rand(5, 5)\n",
    "\n",
    "# Extract the diagonal elements\n",
    "diagonal_elements = np.diagonal(random_array)\n",
    "\n",
    "print(\"Random 5x5 Array:\")\n",
    "print(random_array)\n",
    "\n",
    "print(\"\\nDiagonal Elements (as a 1D array):\")\n",
    "print(diagonal_elements)\n"
   ]
  },
  {
   "cell_type": "code",
   "execution_count": 58,
   "id": "bf316c1c",
   "metadata": {},
   "outputs": [
    {
     "name": "stdout",
     "output_type": "stream",
     "text": [
      "Original 3D Array:\n",
      "[[[0.38064611 0.2818779  0.39843724 0.36657003 0.25761824]\n",
      "  [0.8278676  0.51685776 0.10829682 0.07428775 0.70565517]\n",
      "  [0.12001918 0.69295028 0.87279958 0.71444879 0.75952872]\n",
      "  [0.34090571 0.37565812 0.44385474 0.65397661 0.13519156]]\n",
      "\n",
      " [[0.27820697 0.87053456 0.73564997 0.72853853 0.43894776]\n",
      "  [0.08358509 0.3213914  0.94544085 0.42085375 0.31591104]\n",
      "  [0.62073893 0.39176137 0.21324716 0.6357432  0.94023164]\n",
      "  [0.56052544 0.02743672 0.60240447 0.93636417 0.98965807]]\n",
      "\n",
      " [[0.47727119 0.4561053  0.43513044 0.83119037 0.05429848]\n",
      "  [0.58325436 0.17101733 0.18287052 0.65441866 0.15760629]\n",
      "  [0.38537579 0.15092611 0.66080445 0.87129644 0.85835541]\n",
      "  [0.1515228  0.73112896 0.07588797 0.02614827 0.47640908]]]\n",
      "\n",
      "Subarray (from the first row of the second matrix to the third row of the third matrix):\n",
      "[[0.27820697 0.87053456 0.73564997 0.72853853 0.43894776]\n",
      " [0.47727119 0.4561053  0.43513044 0.83119037 0.05429848]]\n"
     ]
    }
   ],
   "source": [
    "#16.\n",
    "import numpy as np\n",
    "\n",
    "# Create a random 3D NumPy array with shape (3, 4, 5)\n",
    "tensor = np.random.rand(3, 4, 5)\n",
    "\n",
    "# Extract the subarray\n",
    "subarray = tensor[1:3, 0, :]\n",
    "\n",
    "print(\"Original 3D Array:\")\n",
    "print(tensor)\n",
    "\n",
    "print(\"\\nSubarray (from the first row of the second matrix to the third row of the third matrix):\")\n",
    "print(subarray)\n"
   ]
  },
  {
   "cell_type": "code",
   "execution_count": 59,
   "id": "348121a7",
   "metadata": {},
   "outputs": [
    {
     "name": "stdout",
     "output_type": "stream",
     "text": [
      "Original Array:\n",
      "[10 25 15 30 20 35  5]\n",
      "\n",
      "Mean of the Original Array: 20.0\n",
      "\n",
      "New Array (elements greater than the mean):\n",
      "[25 30 35]\n"
     ]
    }
   ],
   "source": [
    "#17.\n",
    "import numpy as np\n",
    "\n",
    "data = np.array([10, 25, 15, 30, 20, 35, 5])\n",
    "\n",
    "# Calculate the mean of the original array\n",
    "mean_value = np.mean(data)\n",
    "\n",
    "# Create a new array containing elements greater than the mean\n",
    "new_array = data[data > mean_value]\n",
    "\n",
    "print(\"Original Array:\")\n",
    "print(data)\n",
    "\n",
    "print(\"\\nMean of the Original Array:\", mean_value)\n",
    "\n",
    "print(\"\\nNew Array (elements greater than the mean):\")\n",
    "print(new_array)\n"
   ]
  },
  {
   "cell_type": "code",
   "execution_count": 68,
   "id": "1c0fcf7b",
   "metadata": {},
   "outputs": [
    {
     "name": "stdout",
     "output_type": "stream",
     "text": [
      "Random 2D Array:\n",
      "[[90 42 53]\n",
      " [21 41 94]\n",
      " [65 47 13]\n",
      " [ 2 96  1]\n",
      " [89 94 32]]\n",
      "\n",
      "Selected Rows (where the sum of elements in the second column is greater than 150):\n",
      "[[[90 42 53]\n",
      "  [21 41 94]\n",
      "  [65 47 13]\n",
      "  [ 2 96  1]\n",
      "  [89 94 32]]]\n"
     ]
    }
   ],
   "source": [
    "#18.\n",
    "import numpy as np\n",
    "\n",
    "# Generate a random 2D NumPy array with shape (5, 3) and values between 1 and 100\n",
    "random_array = np.random.randint(1, 101, size=(5, 3))\n",
    "\n",
    "# Extract rows where the sum of elements in the second column is greater than 150\n",
    "selected_rows = random_array[random_array[:, 1].sum(axis=0) > 150]\n",
    "\n",
    "print(\"Random 2D Array:\")\n",
    "print(random_array)\n",
    "\n",
    "print(\"\\nSelected Rows (where the sum of elements in the second column is greater than 150):\")\n",
    "print(selected_rows)\n"
   ]
  },
  {
   "cell_type": "code",
   "execution_count": null,
   "id": "c1d6f3de",
   "metadata": {},
   "outputs": [],
   "source": []
  },
  {
   "cell_type": "code",
   "execution_count": null,
   "id": "6175b186",
   "metadata": {},
   "outputs": [],
   "source": []
  }
 ],
 "metadata": {
  "kernelspec": {
   "display_name": "Python 3 (ipykernel)",
   "language": "python",
   "name": "python3"
  },
  "language_info": {
   "codemirror_mode": {
    "name": "ipython",
    "version": 3
   },
   "file_extension": ".py",
   "mimetype": "text/x-python",
   "name": "python",
   "nbconvert_exporter": "python",
   "pygments_lexer": "ipython3",
   "version": "3.9.13"
  }
 },
 "nbformat": 4,
 "nbformat_minor": 5
}
