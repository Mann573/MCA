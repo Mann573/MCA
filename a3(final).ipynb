{
 "cells": [
  {
   "cell_type": "code",
   "execution_count": 34,
   "id": "30ba6070",
   "metadata": {},
   "outputs": [
    {
     "name": "stdout",
     "output_type": "stream",
     "text": [
      "5 raised to the power of 4 is 625\n"
     ]
    }
   ],
   "source": [
    "#1.\n",
    "def power(base, exponent):\n",
    "    if exponent == 0:\n",
    "        return 1\n",
    "    else:\n",
    "        return base * power(base, exponent - 1)\n",
    "\n",
    "base = 5\n",
    "exponent = 4\n",
    "result = power(base, exponent)\n",
    "print(f\"{base} raised to the power of {exponent} is {result}\")\n"
   ]
  },
  {
   "cell_type": "code",
   "execution_count": 1,
   "id": "e04f32ba",
   "metadata": {},
   "outputs": [
    {
     "name": "stdout",
     "output_type": "stream",
     "text": [
      "1\n",
      "4\n",
      "9\n",
      "16\n",
      "25\n",
      "36\n",
      "49\n",
      "64\n",
      "81\n",
      "100\n",
      "121\n",
      "144\n",
      "169\n",
      "196\n",
      "225\n",
      "256\n",
      "289\n",
      "324\n",
      "361\n",
      "400\n",
      "441\n",
      "484\n",
      "529\n",
      "576\n",
      "625\n",
      "676\n",
      "729\n",
      "784\n",
      "841\n",
      "900\n"
     ]
    }
   ],
   "source": [
    "#2\n",
    "for i in range(1,31):\n",
    "    print(i*i)"
   ]
  },
  {
   "cell_type": "code",
   "execution_count": 2,
   "id": "ac676c92",
   "metadata": {},
   "outputs": [
    {
     "name": "stdout",
     "output_type": "stream",
     "text": [
      "2023-12-18 00:47:46.532751\n"
     ]
    }
   ],
   "source": [
    "#3\n",
    "#a.\n",
    "import datetime\n",
    "print(datetime.datetime.now())"
   ]
  },
  {
   "cell_type": "code",
   "execution_count": 3,
   "id": "961faf36",
   "metadata": {},
   "outputs": [
    {
     "name": "stdout",
     "output_type": "stream",
     "text": [
      "2023-12-13\n"
     ]
    }
   ],
   "source": [
    "#b.\n",
    "\n",
    "from datetime import datetime,timedelta\n",
    "a=datetime.today()\n",
    "b=a-timedelta(days=5)\n",
    "print(b.date())"
   ]
  },
  {
   "cell_type": "code",
   "execution_count": 15,
   "id": "37aba390",
   "metadata": {},
   "outputs": [
    {
     "name": "stdout",
     "output_type": "stream",
     "text": [
      "Enter a first date: 18122023\n",
      "18122023\n",
      "18\n",
      "Enter a second date: 19122023\n",
      "19122023\n",
      "19\n",
      "Difference between two dates is 1  days\n"
     ]
    }
   ],
   "source": [
    "#c.\n",
    "from datetime import datetime\n",
    "a=input(\"Enter a first date: \")\n",
    "print(a)\n",
    "d=datetime.strptime(a,\"%d%m%Y\").date()\n",
    "print(d.day)\n",
    "b=input(\"Enter a second date: \")\n",
    "print(b)\n",
    "c=datetime.strptime(b,\"%d%m%Y\").date()\n",
    "print(c.day)\n",
    "print(\"Difference between two dates is\",abs(d.day-c.day),\"days\")\n"
   ]
  },
  {
   "cell_type": "code",
   "execution_count": 16,
   "id": "1b55a0a7",
   "metadata": {},
   "outputs": [
    {
     "name": "stdout",
     "output_type": "stream",
     "text": [
      "Current Time in Milliseconds: 1702841214529\n"
     ]
    }
   ],
   "source": [
    "#d.\n",
    "import time    \n",
    "current_time_milliseconds = int(time.time() * 1000)    \n",
    "print(\"Current Time in Milliseconds:\", current_time_milliseconds)"
   ]
  },
  {
   "cell_type": "code",
   "execution_count": 18,
   "id": "f133c3c9",
   "metadata": {},
   "outputs": [
    {
     "name": "stdout",
     "output_type": "stream",
     "text": [
      "0\n",
      "1\n",
      "2\n",
      "3\n"
     ]
    }
   ],
   "source": [
    "#e.\n",
    "import time\n",
    "for i in range(4):\n",
    "    if  i==2:\n",
    "        time.sleep(3)    \n",
    "    print(i)"
   ]
  },
  {
   "cell_type": "code",
   "execution_count": 19,
   "id": "3be25361",
   "metadata": {},
   "outputs": [
    {
     "name": "stdout",
     "output_type": "stream",
     "text": [
      "45 degrees is equal to 0.7853981633974483 radians\n",
      "0.7853981633974483 radians is equal to 45.0 degrees\n"
     ]
    }
   ],
   "source": [
    "#4 a.\n",
    "import math\n",
    "degrees = 45\n",
    "radians = math.radians(degrees)\n",
    "print(f\"{degrees} degrees is equal to {radians} radians\")\n",
    "radians = math.pi / 4  \n",
    "degrees = math.degrees(radians)\n",
    "print(f\"{radians} radians is equal to {degrees} degrees\")"
   ]
  },
  {
   "cell_type": "code",
   "execution_count": 20,
   "id": "4f793763",
   "metadata": {},
   "outputs": [
    {
     "name": "stdout",
     "output_type": "stream",
     "text": [
      "Enter the radius of the sphere: 5\n",
      "Volume of the sphere: 523.60\n",
      "Surface area of the sphere: 314.16\n"
     ]
    }
   ],
   "source": [
    "#b.\n",
    "import math\n",
    "    \n",
    "def sphere_volume(radius):\n",
    "    volume = (4/3) * math.pi * radius**3\n",
    "    return volume\n",
    "    \n",
    "def sphere_surface_area(radius):\n",
    "    area = 4 * math.pi * radius**2\n",
    "    return area\n",
    "\n",
    "radius = float(input(\"Enter the radius of the sphere: \"))\n",
    "volume = sphere_volume(radius)\n",
    "area = sphere_surface_area(radius)    \n",
    "print(f\"Volume of the sphere: {volume:.2f}\")\n",
    "print(f\"Surface area of the sphere: {area:.2f}\")\n",
    "    "
   ]
  },
  {
   "cell_type": "code",
   "execution_count": 21,
   "id": "e4707ced",
   "metadata": {},
   "outputs": [
    {
     "name": "stdout",
     "output_type": "stream",
     "text": [
      "The square root of 1 is 1.0\n",
      "The square root of 2 is 1.4142135623730951\n",
      "The square root of 3 is 1.7320508075688772\n",
      "The square root of 4 is 2.0\n",
      "The square root of 5 is 2.23606797749979\n",
      "The square root of 6 is 2.449489742783178\n",
      "The square root of 7 is 2.6457513110645907\n",
      "The square root of 8 is 2.8284271247461903\n",
      "The square root of 9 is 3.0\n",
      "The square root of 10 is 3.1622776601683795\n",
      "The square root of 11 is 3.3166247903554\n",
      "The square root of 12 is 3.4641016151377544\n",
      "The square root of 13 is 3.605551275463989\n",
      "The square root of 14 is 3.7416573867739413\n",
      "The square root of 15 is 3.872983346207417\n",
      "The square root of 16 is 4.0\n",
      "The square root of 17 is 4.123105625617661\n",
      "The square root of 18 is 4.242640687119285\n",
      "The square root of 19 is 4.358898943540674\n",
      "The square root of 20 is 4.47213595499958\n",
      "The square root of 21 is 4.58257569495584\n",
      "The square root of 22 is 4.69041575982343\n",
      "The square root of 23 is 4.795831523312719\n",
      "The square root of 24 is 4.898979485566356\n",
      "The square root of 25 is 5.0\n",
      "The square root of 26 is 5.0990195135927845\n",
      "The square root of 27 is 5.196152422706632\n",
      "The square root of 28 is 5.291502622129181\n",
      "The square root of 29 is 5.385164807134504\n",
      "The square root of 30 is 5.477225575051661\n",
      "The square root of 31 is 5.5677643628300215\n",
      "The square root of 32 is 5.656854249492381\n",
      "The square root of 33 is 5.744562646538029\n",
      "The square root of 34 is 5.830951894845301\n",
      "The square root of 35 is 5.916079783099616\n",
      "The square root of 36 is 6.0\n",
      "The square root of 37 is 6.082762530298219\n",
      "The square root of 38 is 6.164414002968976\n",
      "The square root of 39 is 6.244997998398398\n",
      "The square root of 40 is 6.324555320336759\n",
      "The square root of 41 is 6.4031242374328485\n",
      "The square root of 42 is 6.48074069840786\n",
      "The square root of 43 is 6.557438524302\n",
      "The square root of 44 is 6.6332495807108\n",
      "The square root of 45 is 6.708203932499369\n",
      "The square root of 46 is 6.782329983125268\n",
      "The square root of 47 is 6.855654600401044\n",
      "The square root of 48 is 6.928203230275509\n",
      "The square root of 49 is 7.0\n",
      "The square root of 50 is 7.0710678118654755\n",
      "The square root of 51 is 7.14142842854285\n",
      "The square root of 52 is 7.211102550927978\n",
      "The square root of 53 is 7.280109889280518\n",
      "The square root of 54 is 7.3484692283495345\n",
      "The square root of 55 is 7.416198487095663\n",
      "The square root of 56 is 7.483314773547883\n",
      "The square root of 57 is 7.54983443527075\n",
      "The square root of 58 is 7.615773105863909\n",
      "The square root of 59 is 7.681145747868608\n",
      "The square root of 60 is 7.745966692414834\n",
      "The square root of 61 is 7.810249675906654\n",
      "The square root of 62 is 7.874007874011811\n",
      "The square root of 63 is 7.937253933193772\n",
      "The square root of 64 is 8.0\n",
      "The square root of 65 is 8.06225774829855\n",
      "The square root of 66 is 8.12403840463596\n",
      "The square root of 67 is 8.18535277187245\n",
      "The square root of 68 is 8.246211251235321\n",
      "The square root of 69 is 8.306623862918075\n",
      "The square root of 70 is 8.366600265340756\n",
      "The square root of 71 is 8.426149773176359\n",
      "The square root of 72 is 8.48528137423857\n",
      "The square root of 73 is 8.54400374531753\n",
      "The square root of 74 is 8.602325267042627\n",
      "The square root of 75 is 8.660254037844387\n",
      "The square root of 76 is 8.717797887081348\n",
      "The square root of 77 is 8.774964387392123\n",
      "The square root of 78 is 8.831760866327848\n",
      "The square root of 79 is 8.888194417315589\n",
      "The square root of 80 is 8.94427190999916\n",
      "The square root of 81 is 9.0\n",
      "The square root of 82 is 9.055385138137417\n",
      "The square root of 83 is 9.1104335791443\n",
      "The square root of 84 is 9.16515138991168\n",
      "The square root of 85 is 9.219544457292887\n",
      "The square root of 86 is 9.273618495495704\n",
      "The square root of 87 is 9.327379053088816\n",
      "The square root of 88 is 9.38083151964686\n",
      "The square root of 89 is 9.433981132056603\n",
      "The square root of 90 is 9.486832980505138\n",
      "The square root of 91 is 9.539392014169456\n",
      "The square root of 92 is 9.591663046625438\n",
      "The square root of 93 is 9.643650760992955\n",
      "The square root of 94 is 9.695359714832659\n",
      "The square root of 95 is 9.746794344808963\n",
      "The square root of 96 is 9.797958971132712\n",
      "The square root of 97 is 9.848857801796104\n",
      "The square root of 98 is 9.899494936611665\n",
      "The square root of 99 is 9.9498743710662\n",
      "The square root of 100 is 10.0\n"
     ]
    }
   ],
   "source": [
    "#c.\n",
    "import math\n",
    "for num in range(1, 101):\n",
    "    square_root = math.sqrt(num)\n",
    "    print(f\"The square root of {num} is {square_root}\")"
   ]
  },
  {
   "cell_type": "code",
   "execution_count": 22,
   "id": "2bcc0a5d",
   "metadata": {},
   "outputs": [
    {
     "name": "stdout",
     "output_type": "stream",
     "text": [
      "z = |10 - 5| * (10 + 5) = 75\n"
     ]
    }
   ],
   "source": [
    "#d.\n",
    "def calculate_z(x, y):\n",
    "    def calculate_addition(a, b):\n",
    "        return a + b\n",
    "    z = abs(x - y) * calculate_addition(x, y)\n",
    "    return z\n",
    "\n",
    "x_value = 10\n",
    "y_value = 5\n",
    "result = calculate_z(x_value, y_value)\n",
    "print(f\"z = |{x_value} - {y_value}| * ({x_value} + {y_value}) = {result}\")"
   ]
  },
  {
   "cell_type": "code",
   "execution_count": 24,
   "id": "8e95be44",
   "metadata": {},
   "outputs": [
    {
     "data": {
      "text/plain": [
       "25"
      ]
     },
     "execution_count": 24,
     "metadata": {},
     "output_type": "execute_result"
    }
   ],
   "source": [
    "#5 a,b,c.\n",
    "def calc(a,b):\n",
    "    def add():\n",
    "        return a+b\n",
    "    return add()+5\n",
    "calc(5,15)"
   ]
  },
  {
   "cell_type": "code",
   "execution_count": 25,
   "id": "8f3acfcc",
   "metadata": {},
   "outputs": [
    {
     "name": "stdout",
     "output_type": "stream",
     "text": [
      "This is the original function.\n"
     ]
    }
   ],
   "source": [
    "#6.\n",
    "def original_function():\n",
    "    print(\"This is the original function.\")\n",
    "new_function_name = original_function\n",
    "new_function_name()"
   ]
  },
  {
   "cell_type": "code",
   "execution_count": 26,
   "id": "b3046e34",
   "metadata": {},
   "outputs": [
    {
     "name": "stdout",
     "output_type": "stream",
     "text": [
      "[4, 6, 8, 10, 12, 14, 16, 18, 20, 22, 24, 26, 28, 30]\n"
     ]
    }
   ],
   "source": [
    "#7.\n",
    "a=[]\n",
    "for i in range (4,31):\n",
    "    if i%2==0:\n",
    "        a.append(i)\n",
    "print(a)"
   ]
  },
  {
   "cell_type": "code",
   "execution_count": 27,
   "id": "e37acb5b",
   "metadata": {},
   "outputs": [
    {
     "name": "stdout",
     "output_type": "stream",
     "text": [
      "The largest item in the list is: 70\n"
     ]
    }
   ],
   "source": [
    "#8.\n",
    "my_list = [10, 20, 30, 40, 50, 60, 70]\n",
    "largest_item = max(my_list)\n",
    "print(\"The largest item in the list is:\", largest_item)"
   ]
  },
  {
   "cell_type": "code",
   "execution_count": 28,
   "id": "85cae7d0",
   "metadata": {},
   "outputs": [
    {
     "name": "stdout",
     "output_type": "stream",
     "text": [
      "['Hello Dear', 'Hello Sir', 'take Dear', 'take Sir']\n"
     ]
    }
   ],
   "source": [
    "#9.\n",
    "list1 = [\"Hello \", \"take \"]\n",
    "list2 = [\"Dear\", \"Sir\"]\n",
    "#result = [item1 + item2 for item1 in list1 for item2 in list2]\n",
    "result=[]\n",
    "for i in list1:\n",
    "    for j in list2:\n",
    "        result.append(i+j)\n",
    "print(result)"
   ]
  },
  {
   "cell_type": "code",
   "execution_count": 29,
   "id": "f5528fec",
   "metadata": {},
   "outputs": [
    {
     "name": "stdout",
     "output_type": "stream",
     "text": [
      "[10, 20, [300, 400, [5000, 6000, 7000], 500], 30, 40]\n"
     ]
    }
   ],
   "source": [
    "#10.\n",
    "l=[10,20,[300,400,[5000,6000],500],30,40]\n",
    "for i in l:\n",
    "    try:\n",
    "        iterator = iter(i)\n",
    "    except TypeError:\n",
    "        pass\n",
    "    else:\n",
    "        for a in i:\n",
    "            try:\n",
    "                iterator = iter(a)\n",
    "            except TypeError:\n",
    "                pass\n",
    "            else:\n",
    "                for b in a:\n",
    "                    if b == 6000:\n",
    "                        a.append(7000)\n",
    "                        \n",
    "print (l)"
   ]
  },
  {
   "cell_type": "code",
   "execution_count": 32,
   "id": "c435da90",
   "metadata": {},
   "outputs": [
    {
     "name": "stdout",
     "output_type": "stream",
     "text": [
      "['a', 'b', ['c', ['d', 'e', ['f', 'g', 'h', 'i', 'j'], 'k'], 'l'], 'm', 'n']\n"
     ]
    }
   ],
   "source": [
    "#11.\n",
    "nested_list = ['a', 'b', ['c', ['d', 'e', ['f', 'g'], 'k'], 'l'], 'm', 'n']\n",
    "sublist_to_add = [\"h\", \"i\", \"j\"]\n",
    "nested_list[2][1][2].extend(sublist_to_add)\n",
    "print(nested_list)"
   ]
  }
 ],
 "metadata": {
  "kernelspec": {
   "display_name": "Python 3",
   "language": "python",
   "name": "python3"
  },
  "language_info": {
   "codemirror_mode": {
    "name": "ipython",
    "version": 3
   },
   "file_extension": ".py",
   "mimetype": "text/x-python",
   "name": "python",
   "nbconvert_exporter": "python",
   "pygments_lexer": "ipython3",
   "version": "3.8.8"
  }
 },
 "nbformat": 4,
 "nbformat_minor": 5
}
