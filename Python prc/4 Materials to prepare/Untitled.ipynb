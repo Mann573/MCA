{
 "cells": [
  {
   "cell_type": "code",
   "execution_count": 1,
   "id": "adf2e551",
   "metadata": {},
   "outputs": [
    {
     "ename": "AttributeError",
     "evalue": "partially initialized module 'csv' has no attribute 'writer' (most likely due to a circular import)",
     "output_type": "error",
     "traceback": [
      "\u001b[1;31m---------------------------------------------------------------------------\u001b[0m",
      "\u001b[1;31mAttributeError\u001b[0m                            Traceback (most recent call last)",
      "Input \u001b[1;32mIn [1]\u001b[0m, in \u001b[0;36m<cell line: 1>\u001b[1;34m()\u001b[0m\n\u001b[1;32m----> 1\u001b[0m \u001b[38;5;28;01mimport\u001b[39;00m \u001b[38;5;21;01mcsv\u001b[39;00m \n\u001b[0;32m      2\u001b[0m \u001b[38;5;66;03m# field names \u001b[39;00m\n\u001b[0;32m      3\u001b[0m fields \u001b[38;5;241m=\u001b[39m [\u001b[38;5;124m'\u001b[39m\u001b[38;5;124mName\u001b[39m\u001b[38;5;124m'\u001b[39m, \u001b[38;5;124m'\u001b[39m\u001b[38;5;124mCourse\u001b[39m\u001b[38;5;124m'\u001b[39m, \u001b[38;5;124m'\u001b[39m\u001b[38;5;124mYear\u001b[39m\u001b[38;5;124m'\u001b[39m, \u001b[38;5;124m'\u001b[39m\u001b[38;5;124mCGPA\u001b[39m\u001b[38;5;124m'\u001b[39m] \n",
      "File \u001b[1;32m~\\Desktop\\Python prc\\4 Materials to prepare\\csv.py:26\u001b[0m, in \u001b[0;36m<module>\u001b[1;34m\u001b[0m\n\u001b[0;32m     23\u001b[0m \u001b[38;5;66;03m# writing to csv file \u001b[39;00m\n\u001b[0;32m     24\u001b[0m \u001b[38;5;28;01mwith\u001b[39;00m \u001b[38;5;28mopen\u001b[39m(filename, \u001b[38;5;124m'\u001b[39m\u001b[38;5;124mw\u001b[39m\u001b[38;5;124m'\u001b[39m, newline\u001b[38;5;241m=\u001b[39m\u001b[38;5;124m\"\u001b[39m\u001b[38;5;124m\"\u001b[39m) \u001b[38;5;28;01mas\u001b[39;00m csvfile: \n\u001b[0;32m     25\u001b[0m     \u001b[38;5;66;03m# creating a csv writer object \u001b[39;00m\n\u001b[1;32m---> 26\u001b[0m     csvwriter \u001b[38;5;241m=\u001b[39m \u001b[43mcsv\u001b[49m\u001b[38;5;241;43m.\u001b[39;49m\u001b[43mwriter\u001b[49m(csvfile) \n\u001b[0;32m     28\u001b[0m     \u001b[38;5;66;03m# writing the fields \u001b[39;00m\n\u001b[0;32m     29\u001b[0m     csvwriter\u001b[38;5;241m.\u001b[39mwriterow(fields) \n",
      "\u001b[1;31mAttributeError\u001b[0m: partially initialized module 'csv' has no attribute 'writer' (most likely due to a circular import)"
     ]
    }
   ],
   "source": [
    "import csv \n",
    "# field names \n",
    "fields = ['Name', 'Course', 'Year', 'CGPA'] \n",
    "    \n",
    "# data rows of csv file \n",
    "rows = [ ['Ashish', 'MCA', '2', '9.0'], \n",
    "         ['Deep', 'M.Sc.(AI&ML)', '2', '9.1'], \n",
    "         ['Sumit', 'M.Tech.(NT)', '2', '9.3'], \n",
    "         ['Saurabh', 'M.Tech.(WT)', '1', '9.5'], \n",
    "         ['Parth', 'PGDCSA', '3', '7.8'], \n",
    "         ['Bhavin', '5 year Integrated M.Sc.(Computer Science)', '2', '9.1']] \n",
    "    \n",
    "# name of csv file\n",
    "filename = \"record.csv\"\n",
    "    \n",
    "# writing to csv file \n",
    "with open(filename, 'w', newline=\"\") as csvfile: \n",
    "    # creating a csv writer object \n",
    "    csvwriter = csv.writer(csvfile) \n",
    "  \n",
    "    # writing the fields \n",
    "    csvwriter.writerow(fields) \n",
    "\n",
    "    # writing the data rows \n",
    "    csvwriter.writerows(rows)"
   ]
  },
  {
   "cell_type": "code",
   "execution_count": null,
   "id": "f4f64e03",
   "metadata": {},
   "outputs": [],
   "source": []
  }
 ],
 "metadata": {
  "kernelspec": {
   "display_name": "Python 3 (ipykernel)",
   "language": "python",
   "name": "python3"
  },
  "language_info": {
   "codemirror_mode": {
    "name": "ipython",
    "version": 3
   },
   "file_extension": ".py",
   "mimetype": "text/x-python",
   "name": "python",
   "nbconvert_exporter": "python",
   "pygments_lexer": "ipython3",
   "version": "3.9.13"
  }
 },
 "nbformat": 4,
 "nbformat_minor": 5
}
