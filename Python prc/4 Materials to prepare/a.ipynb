{
 "cells": [
  {
   "cell_type": "code",
   "execution_count": 7,
   "id": "76ea067a",
   "metadata": {},
   "outputs": [],
   "source": [
    "import csv \n",
    "# field names \n",
    "fields = ['Name', 'Course', 'Year', 'CGPA'] \n",
    "    \n",
    "# data rows of csv file \n",
    "rows = [ ['Ashish', 'MCA', '2', '9.0'], \n",
    "         ['Deep', 'M.Sc.(AI&ML)', '2', '9.1'], \n",
    "         ['Sumit', 'M.Tech.(NT)', '2', '9.3'], \n",
    "         ['Saurabh', 'M.Tech.(WT)', '1', '9.5'], \n",
    "         ['Parth', 'PGDCSA', '3', '7.8'], \n",
    "         ['Bhavin', '5 year Integrated M.Sc.(Computer Science)', '2', '9.1']] \n",
    "    \n",
    "# name of csv file\n",
    "filename = \"record.csv\"\n",
    "    \n",
    "# writing to csv file \n",
    "with open(filename, 'w', newline=\"\") as csvfile: \n",
    "    # creating a csv writer object \n",
    "    csvwriter = csv.writer(csvfile) \n",
    "  \n",
    "    # writing the fields \n",
    "    csvwriter.writerow(fields) \n",
    "\n",
    "    # writing the data rows \n",
    "    csvwriter.writerows(rows)"
   ]
  },
  {
   "cell_type": "code",
   "execution_count": 8,
   "id": "8eda4cea",
   "metadata": {},
   "outputs": [
    {
     "name": "stdout",
     "output_type": "stream",
     "text": [
      "Total no. of rows: 7\n",
      "Field names are:Name, Course, Year, CGPA\n",
      "\n",
      "rows are:\n",
      "\n",
      "    Ashish        MCA          2        9.0 \n",
      "\n",
      "      Deep M.Sc.(AI&ML)          2        9.1 \n",
      "\n",
      "     Sumit M.Tech.(NT)          2        9.3 \n",
      "\n",
      "   Saurabh M.Tech.(WT)          1        9.5 \n",
      "\n",
      "     Parth     PGDCSA          3        7.8 \n",
      "\n",
      "    Bhavin 5 year Integrated M.Sc.(Computer Science)          2        9.1 \n",
      "\n"
     ]
    }
   ],
   "source": [
    "filename = \"record.csv\"\n",
    "fields = []\n",
    "rows = []\n",
    "with open(filename, 'r') as csvfile:\n",
    "    csvreader = csv.reader(csvfile)\n",
    "    fields = next(csvreader)\n",
    "    for row in csvreader:\n",
    "        rows.append(row)\n",
    "    print(\"Total no. of rows: %d\"%(csvreader.line_num))\n",
    " \n",
    "print('Field names are:' + ', '.join(field for field in fields))\n",
    "print('\\nrows are:\\n')\n",
    "for row in rows:\n",
    "    for col in row:\n",
    "        print(\"%10s\"%col,end=\" \"),\n",
    "    print('\\n')\n",
    "    "
   ]
  },
  {
   "cell_type": "code",
   "execution_count": null,
   "id": "e2247c32",
   "metadata": {},
   "outputs": [],
   "source": []
  }
 ],
 "metadata": {
  "kernelspec": {
   "display_name": "Python 3 (ipykernel)",
   "language": "python",
   "name": "python3"
  },
  "language_info": {
   "codemirror_mode": {
    "name": "ipython",
    "version": 3
   },
   "file_extension": ".py",
   "mimetype": "text/x-python",
   "name": "python",
   "nbconvert_exporter": "python",
   "pygments_lexer": "ipython3",
   "version": "3.9.13"
  }
 },
 "nbformat": 4,
 "nbformat_minor": 5
}
