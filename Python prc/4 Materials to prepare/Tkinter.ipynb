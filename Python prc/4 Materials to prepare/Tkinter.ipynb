{
 "cells": [
  {
   "cell_type": "markdown",
   "id": "eca415e9",
   "metadata": {},
   "source": [
    "# Creating GUI using Tkinter Library"
   ]
  },
  {
   "cell_type": "markdown",
   "id": "6225b9b4",
   "metadata": {},
   "source": [
    "Creating GUI which takes input of list and shows the output of ftored list"
   ]
  },
  {
   "cell_type": "code",
   "execution_count": 1,
   "id": "8355ae3b",
   "metadata": {},
   "outputs": [],
   "source": [
    "from tkinter import *\n",
    "\n",
    "lst = []\n",
    "\n",
    "def add():\n",
    "    item = e1.get()\n",
    "    lst.append(item)\n",
    "    e1.delete(0, 'end')\n",
    "   \n",
    "\n",
    "def show():\n",
    "    lbllist.config(text = lst)\n",
    "    \n",
    "\n",
    "\n",
    "top = Tk()\n",
    "label1 = Label(top, text = \"Enter the value\").grid(row = 0, column = 0)\n",
    "e1 = Entry(top)\n",
    "e1.grid(row=0, column=1)\n",
    "btnsubmit = Button(top, text = \"Submit\", command = add)\n",
    "btnsubmit.grid(row = 1, column = 3) \n",
    "btnsubmit = Button(top, text = \"Show\", command = show)\n",
    "btnsubmit.grid(row = 1, column = 4) \n",
    "lbllist = Label(top, text=\"\")\n",
    "lbllist.grid(row = 2, column = 0)\n",
    "top.mainloop()"
   ]
  },
  {
   "cell_type": "markdown",
   "id": "864d4d17",
   "metadata": {},
   "source": [
    "Creating GUI for couting the number of clicks"
   ]
  },
  {
   "cell_type": "code",
   "execution_count": 3,
   "id": "790d475a",
   "metadata": {},
   "outputs": [
    {
     "name": "stdout",
     "output_type": "stream",
     "text": [
      "Updating\n",
      "Updating\n",
      "Updating\n",
      "Updating\n",
      "Updating\n",
      "Updating\n",
      "Updating\n",
      "Updating\n",
      "Updating\n",
      "Updating\n",
      "Updating\n",
      "Updating\n"
     ]
    }
   ],
   "source": [
    "from tkinter import Tk, Button\n",
    "count = 0 # Records the number of button presses\n",
    "\n",
    "def update():\n",
    "    global count, b\n",
    "    count += 1\n",
    "    b.config(text=\"Click Count = \" + str(count))\n",
    "    print(\"Updating\")\n",
    "    \n",
    "root = Tk()\n",
    "b = Button(root)\n",
    "s=\"yellow\";\n",
    "b.configure(background=s, text=\"Click Count = 0\", command=update)\n",
    "b.pack()\n",
    "root.mainloop()"
   ]
  },
  {
   "cell_type": "markdown",
   "id": "9c17bfce",
   "metadata": {},
   "source": [
    "Creating the GUI for changing color using button"
   ]
  },
  {
   "cell_type": "code",
   "execution_count": 4,
   "id": "095be095",
   "metadata": {},
   "outputs": [],
   "source": [
    "from tkinter import Tk, Canvas\n",
    "from tkinter.ttk import Button, Frame\n",
    "def do_button_press():\n",
    "    global color\n",
    "    if color == 'red':\n",
    "        color = 'green'\n",
    "        canvas.itemconfigure(red_lamp, fill='black') \n",
    "        canvas.itemconfigure(green_lamp, fill='green') \n",
    "    elif color == 'green':\n",
    "        color = 'yellow'\n",
    "        canvas.itemconfigure(green_lamp, fill='black') \n",
    "        canvas.itemconfigure(yellow_lamp, fill='yellow') \n",
    "    elif color == 'yellow':\n",
    "        color = 'red'\n",
    "        canvas.itemconfigure(yellow_lamp, fill='black') \n",
    "        canvas.itemconfigure(red_lamp, fill='red') \n",
    "\n",
    "color = 'red' \n",
    "root = Tk() \n",
    "root.title(\"Traffic Light\")\n",
    "frame = Frame(root) \n",
    "frame.pack() \n",
    "\n",
    "canvas = Canvas(frame, width=150, height=300)\n",
    "\n",
    "canvas.create_rectangle(50, 20, 150, 280, fill='gray')\n",
    "\n",
    "red_lamp = canvas.create_oval(70, 40, 130, 100, fill='red')\n",
    "\n",
    "yellow_lamp = canvas.create_oval(70, 120, 130, 180, fill='black')\n",
    "\n",
    "green_lamp = canvas.create_oval(70, 200, 130, 260, fill='black')\n",
    "\n",
    "button = Button(frame, text='Change', command=do_button_press)\n",
    "\n",
    "button.grid(row=0, column=0)\n",
    "canvas.grid(row=0, column=1)\n",
    "\n",
    "root.mainloop()"
   ]
  },
  {
   "cell_type": "markdown",
   "id": "dc2f4163",
   "metadata": {},
   "source": [
    "Creating a GUI to take input and show the output"
   ]
  },
  {
   "cell_type": "code",
   "execution_count": 5,
   "id": "f35e675f",
   "metadata": {},
   "outputs": [],
   "source": [
    "from tkinter import Tk, Canvas\n",
    "from tkinter.ttk import *\n",
    "\n",
    "def show():\n",
    "    input_roll = e1.get()\n",
    "    lblroll.config(text = \"Roll No==> \"+ input_roll)\n",
    "    input_name = e2.get()\n",
    "    lblname.config(text = \"Name==> \"+ input_name)\n",
    "    input_course = e3.get()\n",
    "    lblcourse.config(text = \"Course==> \"+ input_course)\n",
    "    \n",
    "\n",
    "def reset():\n",
    "    e1.delete(0, 'end')\n",
    "    e2.delete(0, 'end')\n",
    "    e3.delete(0, 'end')\n",
    "    lblroll.config(text = \"\")\n",
    "    lblname.config(text = \"\")\n",
    "    lblcourse.config(text = \"\")\n",
    "\n",
    "top = Tk()\n",
    "roll = Label(top, text = \"Roll No.\").grid(row = 0, column = 0)\n",
    "e1 = Entry(top)\n",
    "e1.grid(row=0, column=1)\n",
    "name = Label(top, text = \"Name\").grid(row = 1, column = 0)\n",
    "e2 = Entry(top)\n",
    "e2.grid(row=1, column=1)\n",
    "course = Label(top, text = \"Course\").grid(row = 2, column = 0)\n",
    "e3 = Entry(top)\n",
    "e3.grid(row=2, column=1)\n",
    "btnsubmit = Button(top, text = \"Submit\", command = show)\n",
    "btnsubmit.grid(row = 4, column = 1)\n",
    "btnreset = Button(top, text = \"Reset\", command = reset)\n",
    "btnreset.grid(row = 4, column = 0)\n",
    "lblroll = Label(top, text=\"\")\n",
    "lblroll.grid(row = 5, column = 1)\n",
    "lblname = Label(top, text=\"\")\n",
    "lblname.grid(row = 6, column = 1)\n",
    "lblcourse = Label(top, text=\"\")\n",
    "lblcourse.grid(row = 7, column = 1)\n",
    "top.mainloop()"
   ]
  },
  {
   "cell_type": "code",
   "execution_count": null,
   "id": "ac7db0e0",
   "metadata": {},
   "outputs": [],
   "source": []
  }
 ],
 "metadata": {
  "kernelspec": {
   "display_name": "Python 3 (ipykernel)",
   "language": "python",
   "name": "python3"
  },
  "language_info": {
   "codemirror_mode": {
    "name": "ipython",
    "version": 3
   },
   "file_extension": ".py",
   "mimetype": "text/x-python",
   "name": "python",
   "nbconvert_exporter": "python",
   "pygments_lexer": "ipython3",
   "version": "3.9.13"
  }
 },
 "nbformat": 4,
 "nbformat_minor": 5
}
