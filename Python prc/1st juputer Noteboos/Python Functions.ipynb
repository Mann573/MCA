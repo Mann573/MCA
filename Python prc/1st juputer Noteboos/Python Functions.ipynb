{
 "cells": [
  {
   "cell_type": "markdown",
   "id": "890993d2",
   "metadata": {},
   "source": [
    "# Python Functions"
   ]
  },
  {
   "cell_type": "code",
   "execution_count": 18,
   "id": "3ad7e0f4",
   "metadata": {},
   "outputs": [],
   "source": [
    "def add(x,y):\n",
    "    c = x+y\n",
    "    print(c)\n",
    "    return c"
   ]
  },
  {
   "cell_type": "code",
   "execution_count": null,
   "id": "3762dc27",
   "metadata": {},
   "outputs": [],
   "source": [
    "a=10"
   ]
  },
  {
   "cell_type": "code",
   "execution_count": 19,
   "id": "0f528777",
   "metadata": {},
   "outputs": [
    {
     "name": "stdout",
     "output_type": "stream",
     "text": [
      "29\n"
     ]
    },
    {
     "data": {
      "text/plain": [
       "29"
      ]
     },
     "execution_count": 19,
     "metadata": {},
     "output_type": "execute_result"
    }
   ],
   "source": [
    "add(14,15)"
   ]
  },
  {
   "cell_type": "markdown",
   "id": "97028411",
   "metadata": {},
   "source": [
    "# Understanding Return keyword"
   ]
  },
  {
   "cell_type": "code",
   "execution_count": 6,
   "id": "0314b80b",
   "metadata": {},
   "outputs": [],
   "source": [
    "def absolute_value(num):\n",
    "    \"\"\"This function returns the absolute\n",
    "    value of the entered number\"\"\"\n",
    "\n",
    "    if num >= 0:\n",
    "        return num\n",
    "    else:\n",
    "        return -num\n"
   ]
  },
  {
   "cell_type": "code",
   "execution_count": 7,
   "id": "475b2f0e",
   "metadata": {},
   "outputs": [
    {
     "name": "stdout",
     "output_type": "stream",
     "text": [
      "5\n",
      "2\n",
      "4\n"
     ]
    }
   ],
   "source": [
    "x= absolute_value(-5)\n",
    "\n",
    "print(x)\n",
    "print(absolute_value(2))\n",
    "\n",
    "print(absolute_value(-4))"
   ]
  },
  {
   "cell_type": "markdown",
   "id": "d354ad2e",
   "metadata": {},
   "source": [
    "# Scope and Lifetime of Variables"
   ]
  },
  {
   "cell_type": "code",
   "execution_count": 21,
   "id": "5bae9e52",
   "metadata": {},
   "outputs": [
    {
     "name": "stdout",
     "output_type": "stream",
     "text": [
      "10\n"
     ]
    }
   ],
   "source": [
    "def my_func():\n",
    "    global x\n",
    "    x = 10\n",
    "    \n",
    "\n",
    "x = 20\n",
    "my_func()\n",
    "print(x)\n",
    "\n"
   ]
  },
  {
   "cell_type": "code",
   "execution_count": 10,
   "id": "aba09a1a",
   "metadata": {},
   "outputs": [],
   "source": [
    "# Python program to demonstrate\n",
    "# scope of variable\n",
    "\n",
    "a = 1\n",
    "\n",
    "# Uses global because there is no local 'a'\n",
    "def f():\n",
    "    print(a)\n",
    "\n",
    "# Variable 'a' is redefined as a local\n",
    "def g():\n",
    "    a = 2\n",
    "    print(a)\n",
    "\n",
    "# Uses global keyword to modify global 'a'\n",
    "def h():\n",
    "    global a\n",
    "    a = 3\n",
    "    print(a)\n"
   ]
  },
  {
   "cell_type": "markdown",
   "id": "35e9490f",
   "metadata": {},
   "source": [
    "# Function Decorators "
   ]
  },
  {
   "cell_type": "code",
   "execution_count": 1,
   "id": "38ef7eb0",
   "metadata": {},
   "outputs": [
    {
     "name": "stdout",
     "output_type": "stream",
     "text": [
      "11\n"
     ]
    }
   ],
   "source": [
    "def outer(x):\n",
    "    def inner(y):\n",
    "        return x + y\n",
    "    return inner\n",
    "\n",
    "add_five = outer(5)\n",
    "result = add_five(6)\n",
    "print(result) "
   ]
  },
  {
   "cell_type": "code",
   "execution_count": null,
   "id": "62e1cfae",
   "metadata": {},
   "outputs": [],
   "source": []
  }
 ],
 "metadata": {
  "kernelspec": {
   "display_name": "Python 3 (ipykernel)",
   "language": "python",
   "name": "python3"
  },
  "language_info": {
   "codemirror_mode": {
    "name": "ipython",
    "version": 3
   },
   "file_extension": ".py",
   "mimetype": "text/x-python",
   "name": "python",
   "nbconvert_exporter": "python",
   "pygments_lexer": "ipython3",
   "version": "3.9.13"
  }
 },
 "nbformat": 4,
 "nbformat_minor": 5
}
