{
 "cells": [
  {
   "cell_type": "markdown",
   "id": "2c8c50d1",
   "metadata": {},
   "source": [
    "# Python Lists"
   ]
  },
  {
   "cell_type": "code",
   "execution_count": 2,
   "id": "d19f3aab",
   "metadata": {},
   "outputs": [],
   "source": [
    "list1 = [1,2,'abc',0.16,['a','b','c'],True]"
   ]
  },
  {
   "cell_type": "markdown",
   "id": "9451449b",
   "metadata": {},
   "source": [
    "Accesing List Items or we can say indexing"
   ]
  },
  {
   "cell_type": "code",
   "execution_count": 3,
   "id": "0d18a5e4",
   "metadata": {},
   "outputs": [
    {
     "data": {
      "text/plain": [
       "2"
      ]
     },
     "execution_count": 3,
     "metadata": {},
     "output_type": "execute_result"
    }
   ],
   "source": [
    "list1[1]"
   ]
  },
  {
   "cell_type": "code",
   "execution_count": 4,
   "id": "63e98cbd",
   "metadata": {},
   "outputs": [
    {
     "data": {
      "text/plain": [
       "'a'"
      ]
     },
     "execution_count": 4,
     "metadata": {},
     "output_type": "execute_result"
    }
   ],
   "source": [
    "list1[4][0]"
   ]
  },
  {
   "cell_type": "markdown",
   "id": "dd88a6a0",
   "metadata": {},
   "source": [
    "# Indexing and slicing in list"
   ]
  },
  {
   "cell_type": "markdown",
   "id": "a22e4e6b",
   "metadata": {},
   "source": [
    "Slicing operator (:) used to access the sliced list"
   ]
  },
  {
   "cell_type": "code",
   "execution_count": 7,
   "id": "1fce99f9",
   "metadata": {},
   "outputs": [
    {
     "data": {
      "text/plain": [
       "[2, 'abc', 0.16, ['a', 'b', 'c'], True]"
      ]
     },
     "execution_count": 7,
     "metadata": {},
     "output_type": "execute_result"
    }
   ],
   "source": [
    "list1[1:6]  #first two elements specifies range. First element is included and end of range is excluded"
   ]
  },
  {
   "cell_type": "code",
   "execution_count": 8,
   "id": "7614745a",
   "metadata": {},
   "outputs": [
    {
     "data": {
      "text/plain": [
       "[2, 0.16, True]"
      ]
     },
     "execution_count": 8,
     "metadata": {},
     "output_type": "execute_result"
    }
   ],
   "source": [
    "list1[1:6:2] #the third element is the step function or stride"
   ]
  },
  {
   "cell_type": "markdown",
   "id": "c98dd88b",
   "metadata": {},
   "source": [
    "Stride can be +ve and -ve. If the stride is positive means the direction of list goes from left to right and if -ve then the direction is right to left i.e., reverse list"
   ]
  },
  {
   "cell_type": "code",
   "execution_count": 9,
   "id": "eeba1248",
   "metadata": {},
   "outputs": [
    {
     "data": {
      "text/plain": [
       "[True, ['a', 'b', 'c'], 0.16, 'abc', 2, 1]"
      ]
     },
     "execution_count": 9,
     "metadata": {},
     "output_type": "execute_result"
    }
   ],
   "source": [
    "list1[::-1]  "
   ]
  },
  {
   "cell_type": "markdown",
   "id": "4208997e",
   "metadata": {},
   "source": [
    "Here the values are not given but only stride is given. The list will specify the by default value of start of list and end of list. But as stride is given -ve then it will reverse the list and will see the start and end of list."
   ]
  },
  {
   "cell_type": "code",
   "execution_count": 12,
   "id": "2974038c",
   "metadata": {},
   "outputs": [
    {
     "data": {
      "text/plain": [
       "[True, ['a', 'b', 'c'], 0.16, 'abc', 2, 1]"
      ]
     },
     "execution_count": 12,
     "metadata": {},
     "output_type": "execute_result"
    }
   ],
   "source": [
    "list1[-1:-7:-1]  # here we can see (-1) and (-7) as start and end of revresed list"
   ]
  },
  {
   "cell_type": "code",
   "execution_count": 15,
   "id": "506b1bdb",
   "metadata": {},
   "outputs": [
    {
     "data": {
      "text/plain": [
       "[1, 2, 'abc', 0.16, ['a', 'b', 'c'], True]"
      ]
     },
     "execution_count": 15,
     "metadata": {},
     "output_type": "execute_result"
    }
   ],
   "source": [
    "list1[::1] # here as stride is positive so start and end of list is taken of origunal list."
   ]
  },
  {
   "cell_type": "markdown",
   "id": "08d1ef73",
   "metadata": {},
   "source": [
    "# "
   ]
  },
  {
   "cell_type": "code",
   "execution_count": 11,
   "id": "6056f16d",
   "metadata": {},
   "outputs": [
    {
     "name": "stdout",
     "output_type": "stream",
     "text": [
      "<class 'list'>\n"
     ]
    }
   ],
   "source": [
    "print(type(list1))"
   ]
  },
  {
   "cell_type": "markdown",
   "id": "7acd2bcb",
   "metadata": {},
   "source": [
    "Methods of list "
   ]
  },
  {
   "cell_type": "code",
   "execution_count": null,
   "id": "94c612b3",
   "metadata": {},
   "outputs": [],
   "source": []
  }
 ],
 "metadata": {
  "kernelspec": {
   "display_name": "Python 3 (ipykernel)",
   "language": "python",
   "name": "python3"
  },
  "language_info": {
   "codemirror_mode": {
    "name": "ipython",
    "version": 3
   },
   "file_extension": ".py",
   "mimetype": "text/x-python",
   "name": "python",
   "nbconvert_exporter": "python",
   "pygments_lexer": "ipython3",
   "version": "3.9.13"
  }
 },
 "nbformat": 4,
 "nbformat_minor": 5
}
