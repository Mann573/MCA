{
 "cells": [
  {
   "cell_type": "markdown",
   "id": "b46cc9af",
   "metadata": {},
   "source": [
    "# Python Tuples"
   ]
  },
  {
   "cell_type": "code",
   "execution_count": 2,
   "id": "2c43229f",
   "metadata": {},
   "outputs": [
    {
     "data": {
      "text/plain": [
       "['__add__',\n",
       " '__class__',\n",
       " '__class_getitem__',\n",
       " '__contains__',\n",
       " '__delattr__',\n",
       " '__delitem__',\n",
       " '__dir__',\n",
       " '__doc__',\n",
       " '__eq__',\n",
       " '__format__',\n",
       " '__ge__',\n",
       " '__getattribute__',\n",
       " '__getitem__',\n",
       " '__gt__',\n",
       " '__hash__',\n",
       " '__iadd__',\n",
       " '__imul__',\n",
       " '__init__',\n",
       " '__init_subclass__',\n",
       " '__iter__',\n",
       " '__le__',\n",
       " '__len__',\n",
       " '__lt__',\n",
       " '__mul__',\n",
       " '__ne__',\n",
       " '__new__',\n",
       " '__reduce__',\n",
       " '__reduce_ex__',\n",
       " '__repr__',\n",
       " '__reversed__',\n",
       " '__rmul__',\n",
       " '__setattr__',\n",
       " '__setitem__',\n",
       " '__sizeof__',\n",
       " '__str__',\n",
       " '__subclasshook__',\n",
       " 'append',\n",
       " 'clear',\n",
       " 'copy',\n",
       " 'count',\n",
       " 'extend',\n",
       " 'index',\n",
       " 'insert',\n",
       " 'pop',\n",
       " 'remove',\n",
       " 'reverse',\n",
       " 'sort']"
      ]
     },
     "execution_count": 2,
     "metadata": {},
     "output_type": "execute_result"
    }
   ],
   "source": [
    "dir(list)"
   ]
  },
  {
   "cell_type": "code",
   "execution_count": 3,
   "id": "c3eced5c",
   "metadata": {},
   "outputs": [
    {
     "data": {
      "text/plain": [
       "['__add__',\n",
       " '__class__',\n",
       " '__class_getitem__',\n",
       " '__contains__',\n",
       " '__delattr__',\n",
       " '__dir__',\n",
       " '__doc__',\n",
       " '__eq__',\n",
       " '__format__',\n",
       " '__ge__',\n",
       " '__getattribute__',\n",
       " '__getitem__',\n",
       " '__getnewargs__',\n",
       " '__gt__',\n",
       " '__hash__',\n",
       " '__init__',\n",
       " '__init_subclass__',\n",
       " '__iter__',\n",
       " '__le__',\n",
       " '__len__',\n",
       " '__lt__',\n",
       " '__mul__',\n",
       " '__ne__',\n",
       " '__new__',\n",
       " '__reduce__',\n",
       " '__reduce_ex__',\n",
       " '__repr__',\n",
       " '__rmul__',\n",
       " '__setattr__',\n",
       " '__sizeof__',\n",
       " '__str__',\n",
       " '__subclasshook__',\n",
       " 'count',\n",
       " 'index']"
      ]
     },
     "execution_count": 3,
     "metadata": {},
     "output_type": "execute_result"
    }
   ],
   "source": [
    "dir(tuple)"
   ]
  },
  {
   "cell_type": "code",
   "execution_count": 4,
   "id": "50b42651",
   "metadata": {},
   "outputs": [],
   "source": [
    "tuple1 = ('1','2','3')\n",
    "list1 = ['1','2','3']"
   ]
  },
  {
   "cell_type": "code",
   "execution_count": 5,
   "id": "3f38e01c",
   "metadata": {},
   "outputs": [
    {
     "name": "stdout",
     "output_type": "stream",
     "text": [
      "48\n"
     ]
    }
   ],
   "source": [
    "print(tuple1.__sizeof__())"
   ]
  },
  {
   "cell_type": "code",
   "execution_count": 6,
   "id": "d91ad4de",
   "metadata": {},
   "outputs": [
    {
     "name": "stdout",
     "output_type": "stream",
     "text": [
      "104\n"
     ]
    }
   ],
   "source": [
    "print(list1.__sizeof__())"
   ]
  },
  {
   "cell_type": "code",
   "execution_count": 7,
   "id": "3516227b",
   "metadata": {},
   "outputs": [],
   "source": [
    "list1[1]='77'"
   ]
  },
  {
   "cell_type": "code",
   "execution_count": 8,
   "id": "fdef0161",
   "metadata": {},
   "outputs": [
    {
     "data": {
      "text/plain": [
       "['1', '77', '3']"
      ]
     },
     "execution_count": 8,
     "metadata": {},
     "output_type": "execute_result"
    }
   ],
   "source": [
    "list1"
   ]
  },
  {
   "cell_type": "code",
   "execution_count": 11,
   "id": "fc564b47",
   "metadata": {},
   "outputs": [
    {
     "ename": "TypeError",
     "evalue": "'tuple' object does not support item assignment",
     "output_type": "error",
     "traceback": [
      "\u001b[1;31m---------------------------------------------------------------------------\u001b[0m",
      "\u001b[1;31mTypeError\u001b[0m                                 Traceback (most recent call last)",
      "Input \u001b[1;32mIn [11]\u001b[0m, in \u001b[0;36m<module>\u001b[1;34m\u001b[0m\n\u001b[1;32m----> 1\u001b[0m tuple1[\u001b[38;5;241m1\u001b[39m] \u001b[38;5;241m=\u001b[39m \u001b[38;5;241m23\u001b[39m\n",
      "\u001b[1;31mTypeError\u001b[0m: 'tuple' object does not support item assignment"
     ]
    }
   ],
   "source": [
    "tuple1[1] = 23"
   ]
  },
  {
   "cell_type": "markdown",
   "id": "721094b0",
   "metadata": {},
   "source": [
    "# Tuple Packing"
   ]
  },
  {
   "cell_type": "markdown",
   "id": "bcc6fb37",
   "metadata": {},
   "source": [
    "Tuple packing is done by assigning the values to tuple without giving paranthesis ()"
   ]
  },
  {
   "cell_type": "code",
   "execution_count": 82,
   "id": "956a2240",
   "metadata": {},
   "outputs": [],
   "source": [
    "tuple2 = 1,2,3,4,5,6,7"
   ]
  },
  {
   "cell_type": "code",
   "execution_count": 83,
   "id": "0651a44f",
   "metadata": {},
   "outputs": [
    {
     "data": {
      "text/plain": [
       "(1, 2, 3, 4, 5, 6, 7)"
      ]
     },
     "execution_count": 83,
     "metadata": {},
     "output_type": "execute_result"
    }
   ],
   "source": [
    "tuple2"
   ]
  },
  {
   "cell_type": "code",
   "execution_count": 84,
   "id": "6b64b7ab",
   "metadata": {},
   "outputs": [
    {
     "data": {
      "text/plain": [
       "tuple"
      ]
     },
     "execution_count": 84,
     "metadata": {},
     "output_type": "execute_result"
    }
   ],
   "source": [
    "type(tuple2)"
   ]
  },
  {
   "cell_type": "markdown",
   "id": "722d1d06",
   "metadata": {},
   "source": [
    "Similarly we can do tuple unpacking"
   ]
  },
  {
   "cell_type": "code",
   "execution_count": 86,
   "id": "6e452ad4",
   "metadata": {},
   "outputs": [],
   "source": [
    "ab,gh,jh,xy,kk,ik,mn = tuple2"
   ]
  },
  {
   "cell_type": "code",
   "execution_count": 16,
   "id": "3003a819",
   "metadata": {},
   "outputs": [
    {
     "data": {
      "text/plain": [
       "(1, 2, 3, 4, 5, 6, 7)"
      ]
     },
     "execution_count": 16,
     "metadata": {},
     "output_type": "execute_result"
    }
   ],
   "source": [
    "tuple2"
   ]
  },
  {
   "cell_type": "code",
   "execution_count": 17,
   "id": "737c2982",
   "metadata": {},
   "outputs": [
    {
     "data": {
      "text/plain": [
       "1"
      ]
     },
     "execution_count": 17,
     "metadata": {},
     "output_type": "execute_result"
    }
   ],
   "source": [
    "ab"
   ]
  },
  {
   "cell_type": "code",
   "execution_count": 18,
   "id": "600d6491",
   "metadata": {},
   "outputs": [
    {
     "data": {
      "text/plain": [
       "2"
      ]
     },
     "execution_count": 18,
     "metadata": {},
     "output_type": "execute_result"
    }
   ],
   "source": [
    "gh"
   ]
  },
  {
   "cell_type": "code",
   "execution_count": 19,
   "id": "185a5ccf",
   "metadata": {},
   "outputs": [
    {
     "data": {
      "text/plain": [
       "3"
      ]
     },
     "execution_count": 19,
     "metadata": {},
     "output_type": "execute_result"
    }
   ],
   "source": [
    "jh"
   ]
  },
  {
   "cell_type": "code",
   "execution_count": 20,
   "id": "7ecdff38",
   "metadata": {},
   "outputs": [
    {
     "data": {
      "text/plain": [
       "4"
      ]
     },
     "execution_count": 20,
     "metadata": {},
     "output_type": "execute_result"
    }
   ],
   "source": [
    "xy"
   ]
  },
  {
   "cell_type": "markdown",
   "id": "2dabdfe5",
   "metadata": {},
   "source": [
    "We can perform swapping easily without including the third variable using tuple unpacking"
   ]
  },
  {
   "cell_type": "code",
   "execution_count": 21,
   "id": "788318c3",
   "metadata": {},
   "outputs": [],
   "source": [
    "a=10\n",
    "b=20"
   ]
  },
  {
   "cell_type": "code",
   "execution_count": 22,
   "id": "30dc081f",
   "metadata": {},
   "outputs": [],
   "source": [
    "a,b = b,a"
   ]
  },
  {
   "cell_type": "code",
   "execution_count": 23,
   "id": "b0b4086e",
   "metadata": {},
   "outputs": [
    {
     "data": {
      "text/plain": [
       "10"
      ]
     },
     "execution_count": 23,
     "metadata": {},
     "output_type": "execute_result"
    }
   ],
   "source": [
    "b"
   ]
  },
  {
   "cell_type": "code",
   "execution_count": 24,
   "id": "f2298c95",
   "metadata": {},
   "outputs": [
    {
     "data": {
      "text/plain": [
       "20"
      ]
     },
     "execution_count": 24,
     "metadata": {},
     "output_type": "execute_result"
    }
   ],
   "source": [
    "a"
   ]
  },
  {
   "cell_type": "markdown",
   "id": "5aef8b92",
   "metadata": {},
   "source": [
    "# Accessing tuple elements is also done using indexing"
   ]
  },
  {
   "cell_type": "code",
   "execution_count": 25,
   "id": "acf0edca",
   "metadata": {},
   "outputs": [
    {
     "data": {
      "text/plain": [
       "3"
      ]
     },
     "execution_count": 25,
     "metadata": {},
     "output_type": "execute_result"
    }
   ],
   "source": [
    "tuple2[2]"
   ]
  },
  {
   "cell_type": "code",
   "execution_count": 26,
   "id": "016311ff",
   "metadata": {},
   "outputs": [
    {
     "ename": "IndexError",
     "evalue": "tuple index out of range",
     "output_type": "error",
     "traceback": [
      "\u001b[1;31m---------------------------------------------------------------------------\u001b[0m",
      "\u001b[1;31mIndexError\u001b[0m                                Traceback (most recent call last)",
      "Input \u001b[1;32mIn [26]\u001b[0m, in \u001b[0;36m<module>\u001b[1;34m\u001b[0m\n\u001b[1;32m----> 1\u001b[0m \u001b[43mtuple1\u001b[49m\u001b[43m[\u001b[49m\u001b[38;5;241;43m4\u001b[39;49m\u001b[43m]\u001b[49m\n",
      "\u001b[1;31mIndexError\u001b[0m: tuple index out of range"
     ]
    }
   ],
   "source": [
    "tuple1[4]"
   ]
  },
  {
   "cell_type": "markdown",
   "id": "b91f7d6a",
   "metadata": {},
   "source": [
    "Nested tuples accessing is similar to lists only"
   ]
  },
  {
   "cell_type": "code",
   "execution_count": 27,
   "id": "ad111032",
   "metadata": {},
   "outputs": [],
   "source": [
    "tuple_3 = (1,2,3,'ab',(4,5,7,8,'op'))"
   ]
  },
  {
   "cell_type": "code",
   "execution_count": 28,
   "id": "75abd908",
   "metadata": {},
   "outputs": [
    {
     "data": {
      "text/plain": [
       "7"
      ]
     },
     "execution_count": 28,
     "metadata": {},
     "output_type": "execute_result"
    }
   ],
   "source": [
    "tuple_3[4][2]"
   ]
  },
  {
   "cell_type": "markdown",
   "id": "c8e37fe1",
   "metadata": {},
   "source": [
    "Negative indexing and slicing striding is also similar to lists only"
   ]
  },
  {
   "cell_type": "code",
   "execution_count": 29,
   "id": "9c25c8ec",
   "metadata": {},
   "outputs": [
    {
     "data": {
      "text/plain": [
       "(4, 5, 7, 8, 'op')"
      ]
     },
     "execution_count": 29,
     "metadata": {},
     "output_type": "execute_result"
    }
   ],
   "source": [
    "tuple_3[-1]"
   ]
  },
  {
   "cell_type": "code",
   "execution_count": 30,
   "id": "5c2b1d03",
   "metadata": {},
   "outputs": [
    {
     "data": {
      "text/plain": [
       "((4, 5, 7, 8, 'op'), 'ab', 3, 2, 1)"
      ]
     },
     "execution_count": 30,
     "metadata": {},
     "output_type": "execute_result"
    }
   ],
   "source": [
    "tuple_3[::-1]"
   ]
  },
  {
   "cell_type": "code",
   "execution_count": 32,
   "id": "198366d5",
   "metadata": {},
   "outputs": [
    {
     "data": {
      "text/plain": [
       "((4, 5, 7, 8, 'op'), 'ab', 3, 2, 1)"
      ]
     },
     "execution_count": 32,
     "metadata": {},
     "output_type": "execute_result"
    }
   ],
   "source": [
    "tuple_3[-1:-6:-1]"
   ]
  },
  {
   "cell_type": "code",
   "execution_count": 35,
   "id": "fd4b1832",
   "metadata": {},
   "outputs": [
    {
     "data": {
      "text/plain": [
       "(1, 3, (4, 5, 7, 8, 'op'))"
      ]
     },
     "execution_count": 35,
     "metadata": {},
     "output_type": "execute_result"
    }
   ],
   "source": [
    "tuple_3[0:5:2]"
   ]
  },
  {
   "cell_type": "markdown",
   "id": "d55edf88",
   "metadata": {},
   "source": [
    "Tuples are immutable means we can't change the values assigned. But what if we want to change"
   ]
  },
  {
   "cell_type": "code",
   "execution_count": 36,
   "id": "b553dd25",
   "metadata": {},
   "outputs": [],
   "source": [
    "tuple_4 = (1,2,3,4,[1,2,3])"
   ]
  },
  {
   "cell_type": "code",
   "execution_count": 37,
   "id": "4989e0df",
   "metadata": {},
   "outputs": [],
   "source": [
    "tuple_4[4][1]=9"
   ]
  },
  {
   "cell_type": "code",
   "execution_count": 38,
   "id": "5a964f77",
   "metadata": {},
   "outputs": [
    {
     "data": {
      "text/plain": [
       "(1, 2, 3, 4, [1, 9, 3])"
      ]
     },
     "execution_count": 38,
     "metadata": {},
     "output_type": "execute_result"
    }
   ],
   "source": [
    "tuple_4"
   ]
  },
  {
   "cell_type": "markdown",
   "id": "66c83270",
   "metadata": {},
   "source": [
    "Concatenated Operator (+) "
   ]
  },
  {
   "cell_type": "code",
   "execution_count": 40,
   "id": "e72db1cf",
   "metadata": {},
   "outputs": [],
   "source": [
    "t5 = tuple_3 + tuple_4"
   ]
  },
  {
   "cell_type": "code",
   "execution_count": 41,
   "id": "4fd4c4d1",
   "metadata": {},
   "outputs": [
    {
     "data": {
      "text/plain": [
       "(1, 2, 3, 'ab', (4, 5, 7, 8, 'op'), 1, 2, 3, 4, [1, 9, 3])"
      ]
     },
     "execution_count": 41,
     "metadata": {},
     "output_type": "execute_result"
    }
   ],
   "source": [
    "t5"
   ]
  },
  {
   "cell_type": "code",
   "execution_count": 66,
   "id": "ec2e5ad4",
   "metadata": {},
   "outputs": [],
   "source": [
    "t1 = (tuple_3,tuple_4)"
   ]
  },
  {
   "cell_type": "code",
   "execution_count": 69,
   "id": "6971b162",
   "metadata": {},
   "outputs": [
    {
     "name": "stdout",
     "output_type": "stream",
     "text": [
      "((1, 2, 3, 'ab', (4, 5, 7, 8, 'op')), (1, 2, 3, 4, [1, 9, 3]))\n"
     ]
    }
   ],
   "source": [
    "print(t1)"
   ]
  },
  {
   "cell_type": "markdown",
   "id": "0cdf4a30",
   "metadata": {},
   "source": [
    "Repitition Operator (*)"
   ]
  },
  {
   "cell_type": "code",
   "execution_count": 49,
   "id": "3a83750b",
   "metadata": {},
   "outputs": [
    {
     "data": {
      "text/plain": [
       "(1,\n",
       " 2,\n",
       " 3,\n",
       " 'ab',\n",
       " (4, 5, 7, 8, 'op'),\n",
       " 1,\n",
       " 2,\n",
       " 3,\n",
       " 4,\n",
       " [1, 9, 3],\n",
       " 1,\n",
       " 2,\n",
       " 3,\n",
       " 'ab',\n",
       " (4, 5, 7, 8, 'op'),\n",
       " 1,\n",
       " 2,\n",
       " 3,\n",
       " 4,\n",
       " [1, 9, 3])"
      ]
     },
     "execution_count": 49,
     "metadata": {},
     "output_type": "execute_result"
    }
   ],
   "source": [
    "t5*2"
   ]
  },
  {
   "cell_type": "markdown",
   "id": "30b020f3",
   "metadata": {},
   "source": [
    "# Deleting a tuple"
   ]
  },
  {
   "cell_type": "code",
   "execution_count": 50,
   "id": "2de2242a",
   "metadata": {},
   "outputs": [],
   "source": [
    "del t5"
   ]
  },
  {
   "cell_type": "code",
   "execution_count": 51,
   "id": "8ef13180",
   "metadata": {},
   "outputs": [
    {
     "ename": "NameError",
     "evalue": "name 't5' is not defined",
     "output_type": "error",
     "traceback": [
      "\u001b[1;31m---------------------------------------------------------------------------\u001b[0m",
      "\u001b[1;31mNameError\u001b[0m                                 Traceback (most recent call last)",
      "Input \u001b[1;32mIn [51]\u001b[0m, in \u001b[0;36m<module>\u001b[1;34m\u001b[0m\n\u001b[1;32m----> 1\u001b[0m \u001b[43mt5\u001b[49m\n",
      "\u001b[1;31mNameError\u001b[0m: name 't5' is not defined"
     ]
    }
   ],
   "source": [
    "t5"
   ]
  },
  {
   "cell_type": "markdown",
   "id": "10fa05f8",
   "metadata": {},
   "source": [
    "# Tuple Methods"
   ]
  },
  {
   "cell_type": "code",
   "execution_count": 56,
   "id": "497a9cf4",
   "metadata": {},
   "outputs": [],
   "source": [
    "t6 = (1,1,1,2,3,4,5,6,6,7,8,9)"
   ]
  },
  {
   "cell_type": "code",
   "execution_count": 57,
   "id": "72345334",
   "metadata": {},
   "outputs": [
    {
     "data": {
      "text/plain": [
       "3"
      ]
     },
     "execution_count": 57,
     "metadata": {},
     "output_type": "execute_result"
    }
   ],
   "source": [
    "t6.count(1)"
   ]
  },
  {
   "cell_type": "code",
   "execution_count": 58,
   "id": "a6246503",
   "metadata": {},
   "outputs": [
    {
     "data": {
      "text/plain": [
       "4"
      ]
     },
     "execution_count": 58,
     "metadata": {},
     "output_type": "execute_result"
    }
   ],
   "source": [
    "t6.index(3)"
   ]
  },
  {
   "cell_type": "code",
   "execution_count": 59,
   "id": "f09add1f",
   "metadata": {},
   "outputs": [
    {
     "data": {
      "text/plain": [
       "True"
      ]
     },
     "execution_count": 59,
     "metadata": {},
     "output_type": "execute_result"
    }
   ],
   "source": [
    "1 in t6"
   ]
  },
  {
   "cell_type": "code",
   "execution_count": 60,
   "id": "29db7d65",
   "metadata": {},
   "outputs": [
    {
     "data": {
      "text/plain": [
       "False"
      ]
     },
     "execution_count": 60,
     "metadata": {},
     "output_type": "execute_result"
    }
   ],
   "source": [
    "10 in t6"
   ]
  },
  {
   "cell_type": "code",
   "execution_count": 61,
   "id": "f42d29e5",
   "metadata": {},
   "outputs": [
    {
     "data": {
      "text/plain": [
       "True"
      ]
     },
     "execution_count": 61,
     "metadata": {},
     "output_type": "execute_result"
    }
   ],
   "source": [
    "'ab' not in t6"
   ]
  },
  {
   "cell_type": "code",
   "execution_count": 62,
   "id": "ba660745",
   "metadata": {},
   "outputs": [
    {
     "data": {
      "text/plain": [
       "False"
      ]
     },
     "execution_count": 62,
     "metadata": {},
     "output_type": "execute_result"
    }
   ],
   "source": [
    "1 not in t6"
   ]
  },
  {
   "cell_type": "code",
   "execution_count": 65,
   "id": "6429f8ae",
   "metadata": {},
   "outputs": [
    {
     "name": "stdout",
     "output_type": "stream",
     "text": [
      "1\n",
      "1\n",
      "1\n",
      "2\n",
      "3\n",
      "4\n",
      "5\n",
      "6\n",
      "6\n",
      "7\n",
      "8\n",
      "9\n"
     ]
    }
   ],
   "source": [
    "for i in t6:\n",
    "    print(i)"
   ]
  },
  {
   "cell_type": "markdown",
   "id": "e0e77140",
   "metadata": {},
   "source": [
    "# Converting list or string to tuple"
   ]
  },
  {
   "cell_type": "code",
   "execution_count": 70,
   "id": "b288022e",
   "metadata": {},
   "outputs": [
    {
     "data": {
      "text/plain": [
       "['1', '77', '3']"
      ]
     },
     "execution_count": 70,
     "metadata": {},
     "output_type": "execute_result"
    }
   ],
   "source": [
    "list1"
   ]
  },
  {
   "cell_type": "code",
   "execution_count": 71,
   "id": "b38f6a88",
   "metadata": {},
   "outputs": [
    {
     "name": "stdout",
     "output_type": "stream",
     "text": [
      "('1', '77', '3')\n"
     ]
    }
   ],
   "source": [
    "print(tuple(list1))"
   ]
  },
  {
   "cell_type": "code",
   "execution_count": 72,
   "id": "3ec94918",
   "metadata": {},
   "outputs": [],
   "source": [
    "t7 = tuple(list1)"
   ]
  },
  {
   "cell_type": "code",
   "execution_count": 73,
   "id": "1fce0c8e",
   "metadata": {},
   "outputs": [
    {
     "data": {
      "text/plain": [
       "('1', '77', '3')"
      ]
     },
     "execution_count": 73,
     "metadata": {},
     "output_type": "execute_result"
    }
   ],
   "source": [
    "t7"
   ]
  },
  {
   "cell_type": "code",
   "execution_count": 79,
   "id": "6eba190e",
   "metadata": {},
   "outputs": [],
   "source": [
    "t8 = tuple('string')"
   ]
  },
  {
   "cell_type": "code",
   "execution_count": 80,
   "id": "f2b1ffa7",
   "metadata": {},
   "outputs": [
    {
     "data": {
      "text/plain": [
       "('s', 't', 'r', 'i', 'n', 'g')"
      ]
     },
     "execution_count": 80,
     "metadata": {},
     "output_type": "execute_result"
    }
   ],
   "source": [
    "t8"
   ]
  },
  {
   "cell_type": "markdown",
   "id": "6c47e051",
   "metadata": {},
   "source": [
    "# List is a collection which is ordered and changeable. Allows duplicate members."
   ]
  },
  {
   "cell_type": "markdown",
   "id": "d06db25e",
   "metadata": {},
   "source": [
    "# Tuple is a collection which is unordered and unchangeable. Allows duplicate members."
   ]
  },
  {
   "cell_type": "markdown",
   "id": "d32109cf",
   "metadata": {},
   "source": [
    "# Set is a collection which is unordered, unchangeable*, and unindexed. No duplicate members."
   ]
  },
  {
   "cell_type": "markdown",
   "id": "9c31c92b",
   "metadata": {},
   "source": [
    "# Dictionary is a collection which is ordered** and changeable. No duplicate members."
   ]
  },
  {
   "cell_type": "code",
   "execution_count": 3,
   "id": "339d3aae",
   "metadata": {},
   "outputs": [],
   "source": [
    "tuple_9 = tuple('abc')"
   ]
  },
  {
   "cell_type": "code",
   "execution_count": 5,
   "id": "b7fd10c3",
   "metadata": {},
   "outputs": [
    {
     "name": "stdout",
     "output_type": "stream",
     "text": [
      "('a', 'b', 'c')\n"
     ]
    }
   ],
   "source": [
    "print(tuple_9)"
   ]
  },
  {
   "cell_type": "code",
   "execution_count": null,
   "id": "4aaf3cc7",
   "metadata": {},
   "outputs": [],
   "source": []
  }
 ],
 "metadata": {
  "kernelspec": {
   "display_name": "Python 3 (ipykernel)",
   "language": "python",
   "name": "python3"
  },
  "language_info": {
   "codemirror_mode": {
    "name": "ipython",
    "version": 3
   },
   "file_extension": ".py",
   "mimetype": "text/x-python",
   "name": "python",
   "nbconvert_exporter": "python",
   "pygments_lexer": "ipython3",
   "version": "3.9.13"
  }
 },
 "nbformat": 4,
 "nbformat_minor": 5
}
